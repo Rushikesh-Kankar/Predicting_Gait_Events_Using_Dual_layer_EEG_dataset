{
 "cells": [
  {
   "cell_type": "code",
   "execution_count": 3,
   "id": "5c6483b0",
   "metadata": {},
   "outputs": [],
   "source": [
    "import mne\n",
    "\n",
    "def load_data(event_id, file_path):\n",
    "    all_epochs = []\n",
    "    for event in event_id:\n",
    "        epochs = mne.read_epochs(f'{file_path}/my_epochs_{event}-epo.fif')\n",
    "        all_epochs.append(epochs)\n",
    "    all_data = mne.concatenate_epochs(all_epochs)\n",
    "    return all_data"
   ]
  }
 ],
 "metadata": {
  "kernelspec": {
   "display_name": "Python 3 (ipykernel)",
   "language": "python",
   "name": "python3"
  },
  "language_info": {
   "codemirror_mode": {
    "name": "ipython",
    "version": 3
   },
   "file_extension": ".py",
   "mimetype": "text/x-python",
   "name": "python",
   "nbconvert_exporter": "python",
   "pygments_lexer": "ipython3",
   "version": "3.9.12"
  }
 },
 "nbformat": 4,
 "nbformat_minor": 5
}
