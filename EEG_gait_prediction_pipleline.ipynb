{
 "cells": [
  {
   "cell_type": "code",
   "execution_count": 2,
   "id": "065a0214",
   "metadata": {},
   "outputs": [
    {
     "name": "stderr",
     "output_type": "stream",
     "text": [
      "[NbConvertApp] Converting notebook preprocess_eeg_data.ipynb to python\n",
      "[NbConvertApp] Writing 3522 bytes to preprocess_eeg_data.py\n",
      "[NbConvertApp] Converting notebook Read_data.ipynb to python\n",
      "[NbConvertApp] Writing 325 bytes to Read_data.py\n",
      "[NbConvertApp] Converting notebook Traning_Models.ipynb to python\n",
      "[NbConvertApp] Writing 4711 bytes to Traning_Models.py\n",
      "[NbConvertApp] Converting notebook Extract_Window_Data.ipynb to python\n",
      "[NbConvertApp] Writing 2396 bytes to Extract_Window_Data.py\n",
      "[NbConvertApp] Converting notebook Final_Predictions_on_raw_data.ipynb to python\n",
      "[NbConvertApp] Writing 5237 bytes to Final_Predictions_on_raw_data.py\n",
      "[NbConvertApp] Converting notebook Plot_Epoched_data.ipynb to python\n",
      "[NbConvertApp] Writing 2696 bytes to Plot_Epoched_data.py\n",
      "[NbConvertApp] Converting notebook Feature_Extraction.ipynb to python\n",
      "[NbConvertApp] Writing 3608 bytes to Feature_Extraction.py\n",
      "[NbConvertApp] Converting notebook Feature_extraction_all_channels.ipynb to python\n",
      "[NbConvertApp] Writing 3089 bytes to Feature_extraction_all_channels.py\n",
      "[NbConvertApp] Converting notebook Feature_Extraction_Parallel.ipynb to python\n",
      "[NbConvertApp] Writing 4130 bytes to Feature_Extraction_Parallel.py\n",
      "[NbConvertApp] Converting notebook Feature_extraction_all_channels_Parallel.ipynb to python\n",
      "[NbConvertApp] Writing 10722 bytes to Feature_extraction_all_channels_Parallel.py\n",
      "[NbConvertApp] Converting notebook Traning_LSTM.ipynb to python\n",
      "[NbConvertApp] Writing 2773 bytes to Traning_LSTM.py\n"
     ]
    }
   ],
   "source": [
    "#run_to_convert_notebooks_to_python_file\n",
    "\n",
    "!jupyter nbconvert --to python preprocess_eeg_data.ipynb\n",
    "!jupyter nbconvert --to python Read_data.ipynb\n",
    "!jupyter nbconvert --to python Traning_Models.ipynb\n",
    "!jupyter nbconvert --to python Extract_Window_Data.ipynb\n",
    "!jupyter nbconvert --to python Final_Predictions_on_raw_data.ipynb\n",
    "!jupyter nbconvert --to python Plot_Epoched_data.ipynb\n",
    "!jupyter nbconvert --to python Feature_Extraction.ipynb\n",
    "!jupyter nbconvert --to python Feature_extraction_all_channels.ipynb\n",
    "!jupyter nbconvert --to python Feature_Extraction_Parallel.ipynb\n",
    "!jupyter nbconvert --to python Feature_extraction_all_channels_Parallel\n",
    "!jupyter nbconvert --to python Traning_LSTM"
   ]
  },
  {
   "cell_type": "code",
   "execution_count": 2,
   "id": "bdcd18c9",
   "metadata": {},
   "outputs": [],
   "source": [
    "import mne\n",
    "import numpy as np\n",
    "from datetime import datetime\n",
    "import pandas as pd"
   ]
  },
  {
   "cell_type": "code",
   "execution_count": 20,
   "id": "7d7719f8",
   "metadata": {},
   "outputs": [
    {
     "ename": "ModuleNotFoundError",
     "evalue": "No module named 'tensorflow'",
     "output_type": "error",
     "traceback": [
      "\u001b[1;31m---------------------------------------------------------------------------\u001b[0m",
      "\u001b[1;31mModuleNotFoundError\u001b[0m                       Traceback (most recent call last)",
      "\u001b[1;32mc:\\Users\\kanka\\OneDrive\\Desktop\\Predicting_Gait_Events_Using_Dual_layer_EEG_dataset\\EEG_gait_prediction_pipleline.ipynb Cell 3\u001b[0m in \u001b[0;36m<cell line: 12>\u001b[1;34m()\u001b[0m\n\u001b[0;32m     <a href='vscode-notebook-cell:/c%3A/Users/kanka/OneDrive/Desktop/Predicting_Gait_Events_Using_Dual_layer_EEG_dataset/EEG_gait_prediction_pipleline.ipynb#W3sZmlsZQ%3D%3D?line=9'>10</a>\u001b[0m \u001b[39mfrom\u001b[39;00m \u001b[39mFeature_Extraction_Parallel\u001b[39;00m \u001b[39mimport\u001b[39;00m extract_features\n\u001b[0;32m     <a href='vscode-notebook-cell:/c%3A/Users/kanka/OneDrive/Desktop/Predicting_Gait_Events_Using_Dual_layer_EEG_dataset/EEG_gait_prediction_pipleline.ipynb#W3sZmlsZQ%3D%3D?line=10'>11</a>\u001b[0m \u001b[39mfrom\u001b[39;00m \u001b[39mFeature_extraction_all_channels_Parallel\u001b[39;00m \u001b[39mimport\u001b[39;00m extract_combined_features\n\u001b[1;32m---> <a href='vscode-notebook-cell:/c%3A/Users/kanka/OneDrive/Desktop/Predicting_Gait_Events_Using_Dual_layer_EEG_dataset/EEG_gait_prediction_pipleline.ipynb#W3sZmlsZQ%3D%3D?line=11'>12</a>\u001b[0m \u001b[39mfrom\u001b[39;00m \u001b[39mTraning_LSTM\u001b[39;00m \u001b[39mimport\u001b[39;00m lstm_model\n\u001b[0;32m     <a href='vscode-notebook-cell:/c%3A/Users/kanka/OneDrive/Desktop/Predicting_Gait_Events_Using_Dual_layer_EEG_dataset/EEG_gait_prediction_pipleline.ipynb#W3sZmlsZQ%3D%3D?line=12'>13</a>\u001b[0m \u001b[39mfrom\u001b[39;00m \u001b[39mTraning_Models\u001b[39;00m \u001b[39mimport\u001b[39;00m train_models_and_save_raw_data\n\u001b[0;32m     <a href='vscode-notebook-cell:/c%3A/Users/kanka/OneDrive/Desktop/Predicting_Gait_Events_Using_Dual_layer_EEG_dataset/EEG_gait_prediction_pipleline.ipynb#W3sZmlsZQ%3D%3D?line=13'>14</a>\u001b[0m \u001b[39mfrom\u001b[39;00m \u001b[39mTraning_Models\u001b[39;00m \u001b[39mimport\u001b[39;00m train_models_and_save_feature_extracted_data\n",
      "File \u001b[1;32mc:\\Users\\kanka\\OneDrive\\Desktop\\Predicting_Gait_Events_Using_Dual_layer_EEG_dataset\\Traning_LSTM.py:7\u001b[0m, in \u001b[0;36m<module>\u001b[1;34m\u001b[0m\n\u001b[0;32m      1\u001b[0m \u001b[39m#!/usr/bin/env python\u001b[39;00m\n\u001b[0;32m      2\u001b[0m \u001b[39m# coding: utf-8\u001b[39;00m\n\u001b[0;32m      3\u001b[0m \n\u001b[0;32m      4\u001b[0m \u001b[39m# In[1]:\u001b[39;00m\n\u001b[1;32m----> 7\u001b[0m \u001b[39mfrom\u001b[39;00m \u001b[39mtensorflow\u001b[39;00m\u001b[39m.\u001b[39;00m\u001b[39mkeras\u001b[39;00m\u001b[39m.\u001b[39;00m\u001b[39mmodels\u001b[39;00m \u001b[39mimport\u001b[39;00m Sequential\n\u001b[0;32m      8\u001b[0m \u001b[39mfrom\u001b[39;00m \u001b[39mtensorflow\u001b[39;00m\u001b[39m.\u001b[39;00m\u001b[39mkeras\u001b[39;00m\u001b[39m.\u001b[39;00m\u001b[39mlayers\u001b[39;00m \u001b[39mimport\u001b[39;00m LSTM, Dense, Dropout\n\u001b[0;32m      9\u001b[0m \u001b[39mfrom\u001b[39;00m \u001b[39msklearn\u001b[39;00m\u001b[39m.\u001b[39;00m\u001b[39mmodel_selection\u001b[39;00m \u001b[39mimport\u001b[39;00m train_test_split\n",
      "\u001b[1;31mModuleNotFoundError\u001b[0m: No module named 'tensorflow'"
     ]
    }
   ],
   "source": [
    "from preprocess_eeg_data import preprocess_eeg_data\n",
    "from Read_data import load_data\n",
    "#from Traning_Models2 import train_models_and_save\n",
    "from Extract_Window_Data import extract_window_data\n",
    "from Final_Predictions_on_raw_data import predict_events\n",
    "from Final_Predictions_on_raw_data import save_event_times\n",
    "from Plot_Epoched_data import plot_eeg_features\n",
    "#from Feature_Extraction import extract_features\n",
    "#from Feature_extraction_all_channels import extract_combined_features\n",
    "from Feature_Extraction_Parallel import extract_features\n",
    "from Feature_extraction_all_channels_Parallel import extract_combined_features\n",
    "from Traning_LSTM import lstm_model\n",
    "from Traning_Models import train_models_and_save_raw_data\n",
    "from Traning_Models import train_models_and_save_feature_extracted_data"
   ]
  },
  {
   "cell_type": "code",
   "execution_count": 18,
   "id": "d9e4895d",
   "metadata": {},
   "outputs": [
    {
     "name": "stdout",
     "output_type": "stream",
     "text": [
      "Collecting tensorflow\n",
      "  Downloading tensorflow-2.12.0-cp310-cp310-win_amd64.whl (1.9 kB)\n",
      "Collecting tensorflow-intel==2.12.0 (from tensorflow)\n",
      "  Downloading tensorflow_intel-2.12.0-cp310-cp310-win_amd64.whl (272.8 MB)\n",
      "     -------------------------------------- 272.8/272.8 MB 5.1 MB/s eta 0:00:00\n",
      "Collecting absl-py>=1.0.0 (from tensorflow-intel==2.12.0->tensorflow)\n",
      "  Downloading absl_py-1.4.0-py3-none-any.whl (126 kB)\n",
      "     -------------------------------------- 126.5/126.5 kB 7.3 MB/s eta 0:00:00\n",
      "Collecting astunparse>=1.6.0 (from tensorflow-intel==2.12.0->tensorflow)\n",
      "  Using cached astunparse-1.6.3-py2.py3-none-any.whl (12 kB)\n",
      "Collecting flatbuffers>=2.0 (from tensorflow-intel==2.12.0->tensorflow)\n",
      "  Downloading flatbuffers-23.5.26-py2.py3-none-any.whl (26 kB)\n",
      "Collecting gast<=0.4.0,>=0.2.1 (from tensorflow-intel==2.12.0->tensorflow)\n",
      "  Using cached gast-0.4.0-py3-none-any.whl (9.8 kB)\n",
      "Collecting google-pasta>=0.1.1 (from tensorflow-intel==2.12.0->tensorflow)\n",
      "  Using cached google_pasta-0.2.0-py3-none-any.whl (57 kB)\n",
      "Requirement already satisfied: h5py>=2.9.0 in c:\\users\\kanka\\appdata\\local\\programs\\python\\python310\\lib\\site-packages (from tensorflow-intel==2.12.0->tensorflow) (3.7.0)\n",
      "Collecting jax>=0.3.15 (from tensorflow-intel==2.12.0->tensorflow)\n",
      "  Downloading jax-0.4.11.tar.gz (1.3 MB)\n",
      "     ---------------------------------------- 1.3/1.3 MB 11.6 MB/s eta 0:00:00\n",
      "  Installing build dependencies: started\n",
      "  Installing build dependencies: finished with status 'done'\n",
      "  Getting requirements to build wheel: started\n",
      "  Getting requirements to build wheel: finished with status 'done'\n",
      "  Preparing metadata (pyproject.toml): started\n",
      "  Preparing metadata (pyproject.toml): finished with status 'done'\n",
      "Collecting libclang>=13.0.0 (from tensorflow-intel==2.12.0->tensorflow)\n",
      "  Downloading libclang-16.0.0-py2.py3-none-win_amd64.whl (24.4 MB)\n",
      "     --------------------------------------- 24.4/24.4 MB 10.2 MB/s eta 0:00:00\n",
      "Collecting numpy<1.24,>=1.22 (from tensorflow-intel==2.12.0->tensorflow)\n",
      "  Downloading numpy-1.23.5-cp310-cp310-win_amd64.whl (14.6 MB)\n",
      "     --------------------------------------- 14.6/14.6 MB 11.7 MB/s eta 0:00:00\n",
      "Requirement already satisfied: opt-einsum>=2.3.2 in c:\\users\\kanka\\appdata\\local\\programs\\python\\python310\\lib\\site-packages (from tensorflow-intel==2.12.0->tensorflow) (3.3.0)\n",
      "Requirement already satisfied: packaging in c:\\users\\kanka\\appdata\\local\\programs\\python\\python310\\lib\\site-packages (from tensorflow-intel==2.12.0->tensorflow) (21.3)\n",
      "Collecting protobuf!=4.21.0,!=4.21.1,!=4.21.2,!=4.21.3,!=4.21.4,!=4.21.5,<5.0.0dev,>=3.20.3 (from tensorflow-intel==2.12.0->tensorflow)\n",
      "  Downloading protobuf-4.23.2-cp310-abi3-win_amd64.whl (422 kB)\n",
      "     ------------------------------------- 422.5/422.5 kB 13.3 MB/s eta 0:00:00\n",
      "Requirement already satisfied: setuptools in c:\\users\\kanka\\appdata\\local\\programs\\python\\python310\\lib\\site-packages (from tensorflow-intel==2.12.0->tensorflow) (63.2.0)\n",
      "Requirement already satisfied: six>=1.12.0 in c:\\users\\kanka\\appdata\\local\\programs\\python\\python310\\lib\\site-packages (from tensorflow-intel==2.12.0->tensorflow) (1.16.0)\n",
      "Collecting termcolor>=1.1.0 (from tensorflow-intel==2.12.0->tensorflow)\n",
      "  Downloading termcolor-2.3.0-py3-none-any.whl (6.9 kB)\n",
      "Requirement already satisfied: typing-extensions>=3.6.6 in c:\\users\\kanka\\appdata\\local\\programs\\python\\python310\\lib\\site-packages (from tensorflow-intel==2.12.0->tensorflow) (4.5.0)\n",
      "Collecting wrapt<1.15,>=1.11.0 (from tensorflow-intel==2.12.0->tensorflow)\n",
      "  Downloading wrapt-1.14.1-cp310-cp310-win_amd64.whl (35 kB)\n",
      "Collecting grpcio<2.0,>=1.24.3 (from tensorflow-intel==2.12.0->tensorflow)\n",
      "  Downloading grpcio-1.54.2-cp310-cp310-win_amd64.whl (4.1 MB)\n",
      "     ---------------------------------------- 4.1/4.1 MB 11.9 MB/s eta 0:00:00\n",
      "Collecting tensorboard<2.13,>=2.12 (from tensorflow-intel==2.12.0->tensorflow)\n",
      "  Downloading tensorboard-2.12.3-py3-none-any.whl (5.6 MB)\n",
      "     ---------------------------------------- 5.6/5.6 MB 9.7 MB/s eta 0:00:00\n",
      "Collecting tensorflow-estimator<2.13,>=2.12.0 (from tensorflow-intel==2.12.0->tensorflow)\n",
      "  Downloading tensorflow_estimator-2.12.0-py2.py3-none-any.whl (440 kB)\n",
      "     ------------------------------------- 440.7/440.7 kB 13.9 MB/s eta 0:00:00\n",
      "Collecting keras<2.13,>=2.12.0 (from tensorflow-intel==2.12.0->tensorflow)\n",
      "  Downloading keras-2.12.0-py2.py3-none-any.whl (1.7 MB)\n",
      "     ---------------------------------------- 1.7/1.7 MB 12.3 MB/s eta 0:00:00\n",
      "Collecting tensorflow-io-gcs-filesystem>=0.23.1 (from tensorflow-intel==2.12.0->tensorflow)\n",
      "  Downloading tensorflow_io_gcs_filesystem-0.31.0-cp310-cp310-win_amd64.whl (1.5 MB)\n",
      "     ---------------------------------------- 1.5/1.5 MB 11.8 MB/s eta 0:00:00\n",
      "Requirement already satisfied: wheel<1.0,>=0.23.0 in c:\\users\\kanka\\appdata\\local\\programs\\python\\python310\\lib\\site-packages (from astunparse>=1.6.0->tensorflow-intel==2.12.0->tensorflow) (0.37.1)\n",
      "Collecting ml-dtypes>=0.1.0 (from jax>=0.3.15->tensorflow-intel==2.12.0->tensorflow)\n",
      "  Downloading ml_dtypes-0.1.0-cp310-cp310-win_amd64.whl (120 kB)\n",
      "     -------------------------------------- 120.4/120.4 kB 6.9 MB/s eta 0:00:00\n",
      "Requirement already satisfied: scipy>=1.7 in c:\\users\\kanka\\appdata\\local\\programs\\python\\python310\\lib\\site-packages (from jax>=0.3.15->tensorflow-intel==2.12.0->tensorflow) (1.8.1)\n",
      "Collecting google-auth<3,>=1.6.3 (from tensorboard<2.13,>=2.12->tensorflow-intel==2.12.0->tensorflow)\n",
      "  Downloading google_auth-2.19.1-py2.py3-none-any.whl (181 kB)\n",
      "     ------------------------------------- 181.3/181.3 kB 10.7 MB/s eta 0:00:00\n",
      "Collecting google-auth-oauthlib<1.1,>=0.5 (from tensorboard<2.13,>=2.12->tensorflow-intel==2.12.0->tensorflow)\n",
      "  Downloading google_auth_oauthlib-1.0.0-py2.py3-none-any.whl (18 kB)\n",
      "Collecting markdown>=2.6.8 (from tensorboard<2.13,>=2.12->tensorflow-intel==2.12.0->tensorflow)\n",
      "  Downloading Markdown-3.4.3-py3-none-any.whl (93 kB)\n",
      "     ---------------------------------------- 93.9/93.9 kB 5.2 MB/s eta 0:00:00\n",
      "Requirement already satisfied: requests<3,>=2.21.0 in c:\\users\\kanka\\appdata\\local\\programs\\python\\python310\\lib\\site-packages (from tensorboard<2.13,>=2.12->tensorflow-intel==2.12.0->tensorflow) (2.28.2)\n",
      "Collecting tensorboard-data-server<0.8.0,>=0.7.0 (from tensorboard<2.13,>=2.12->tensorflow-intel==2.12.0->tensorflow)\n",
      "  Downloading tensorboard_data_server-0.7.0-py3-none-any.whl (2.4 kB)\n",
      "Collecting werkzeug>=1.0.1 (from tensorboard<2.13,>=2.12->tensorflow-intel==2.12.0->tensorflow)\n",
      "  Downloading Werkzeug-2.3.4-py3-none-any.whl (242 kB)\n",
      "     -------------------------------------- 242.5/242.5 kB 7.5 MB/s eta 0:00:00\n",
      "Requirement already satisfied: pyparsing!=3.0.5,>=2.0.2 in c:\\users\\kanka\\appdata\\local\\programs\\python\\python310\\lib\\site-packages (from packaging->tensorflow-intel==2.12.0->tensorflow) (3.0.9)\n",
      "Collecting cachetools<6.0,>=2.0.0 (from google-auth<3,>=1.6.3->tensorboard<2.13,>=2.12->tensorflow-intel==2.12.0->tensorflow)\n",
      "  Downloading cachetools-5.3.1-py3-none-any.whl (9.3 kB)\n",
      "Collecting pyasn1-modules>=0.2.1 (from google-auth<3,>=1.6.3->tensorboard<2.13,>=2.12->tensorflow-intel==2.12.0->tensorflow)\n",
      "  Downloading pyasn1_modules-0.3.0-py2.py3-none-any.whl (181 kB)\n",
      "     ------------------------------------- 181.3/181.3 kB 10.7 MB/s eta 0:00:00\n",
      "Collecting rsa<5,>=3.1.4 (from google-auth<3,>=1.6.3->tensorboard<2.13,>=2.12->tensorflow-intel==2.12.0->tensorflow)\n",
      "  Downloading rsa-4.9-py3-none-any.whl (34 kB)\n",
      "Requirement already satisfied: urllib3<2.0 in c:\\users\\kanka\\appdata\\local\\programs\\python\\python310\\lib\\site-packages (from google-auth<3,>=1.6.3->tensorboard<2.13,>=2.12->tensorflow-intel==2.12.0->tensorflow) (1.26.14)\n",
      "Collecting requests-oauthlib>=0.7.0 (from google-auth-oauthlib<1.1,>=0.5->tensorboard<2.13,>=2.12->tensorflow-intel==2.12.0->tensorflow)\n",
      "  Using cached requests_oauthlib-1.3.1-py2.py3-none-any.whl (23 kB)\n",
      "Requirement already satisfied: charset-normalizer<4,>=2 in c:\\users\\kanka\\appdata\\local\\programs\\python\\python310\\lib\\site-packages (from requests<3,>=2.21.0->tensorboard<2.13,>=2.12->tensorflow-intel==2.12.0->tensorflow) (3.0.1)\n",
      "Requirement already satisfied: idna<4,>=2.5 in c:\\users\\kanka\\appdata\\local\\programs\\python\\python310\\lib\\site-packages (from requests<3,>=2.21.0->tensorboard<2.13,>=2.12->tensorflow-intel==2.12.0->tensorflow) (3.4)\n",
      "Requirement already satisfied: certifi>=2017.4.17 in c:\\users\\kanka\\appdata\\local\\programs\\python\\python310\\lib\\site-packages (from requests<3,>=2.21.0->tensorboard<2.13,>=2.12->tensorflow-intel==2.12.0->tensorflow) (2022.12.7)\n",
      "Requirement already satisfied: MarkupSafe>=2.1.1 in c:\\users\\kanka\\appdata\\local\\programs\\python\\python310\\lib\\site-packages (from werkzeug>=1.0.1->tensorboard<2.13,>=2.12->tensorflow-intel==2.12.0->tensorflow) (2.1.1)\n",
      "Collecting pyasn1<0.6.0,>=0.4.6 (from pyasn1-modules>=0.2.1->google-auth<3,>=1.6.3->tensorboard<2.13,>=2.12->tensorflow-intel==2.12.0->tensorflow)\n",
      "  Downloading pyasn1-0.5.0-py2.py3-none-any.whl (83 kB)\n",
      "     ---------------------------------------- 83.9/83.9 kB ? eta 0:00:00\n",
      "Collecting oauthlib>=3.0.0 (from requests-oauthlib>=0.7.0->google-auth-oauthlib<1.1,>=0.5->tensorboard<2.13,>=2.12->tensorflow-intel==2.12.0->tensorflow)\n",
      "  Using cached oauthlib-3.2.2-py3-none-any.whl (151 kB)\n",
      "Building wheels for collected packages: jax\n",
      "  Building wheel for jax (pyproject.toml): started\n",
      "  Building wheel for jax (pyproject.toml): finished with status 'done'\n",
      "  Created wheel for jax: filename=jax-0.4.11-py3-none-any.whl size=1487992 sha256=ee8614e2d1f74f72d51974ed0d14ae60f0722d542ab59c783584e67c96eae2d0\n",
      "  Stored in directory: c:\\users\\kanka\\appdata\\local\\pip\\cache\\wheels\\24\\d2\\da\\9e8cec7afad3784f022c4dd1184ba33f9220a9d24b712e50eb\n",
      "Successfully built jax\n",
      "Installing collected packages: libclang, flatbuffers, wrapt, werkzeug, termcolor, tensorflow-io-gcs-filesystem, tensorflow-estimator, tensorboard-data-server, pyasn1, protobuf, oauthlib, numpy, markdown, keras, grpcio, google-pasta, gast, cachetools, astunparse, absl-py, rsa, requests-oauthlib, pyasn1-modules, ml-dtypes, jax, google-auth, google-auth-oauthlib, tensorboard, tensorflow-intel, tensorflow\n",
      "  Attempting uninstall: numpy\n",
      "    Found existing installation: numpy 1.24.2\n",
      "    Uninstalling numpy-1.24.2:\n",
      "      Successfully uninstalled numpy-1.24.2\n",
      "Note: you may need to restart the kernel to use updated packages.\n"
     ]
    },
    {
     "name": "stderr",
     "output_type": "stream",
     "text": [
      "ERROR: Could not install packages due to an OSError: [WinError 5] Access is denied: 'C:\\\\Users\\\\kanka\\\\AppData\\\\Local\\\\Programs\\\\Python\\\\Python310\\\\Lib\\\\site-packages\\\\~umpy\\\\.libs\\\\libopenblas64__v0.3.21-gcc_10_3_0.dll'\n",
      "Consider using the `--user` option or check the permissions.\n",
      "\n"
     ]
    }
   ],
   "source": [
    "pip install tensorflow\n"
   ]
  },
  {
   "cell_type": "code",
   "execution_count": null,
   "id": "2a514cad",
   "metadata": {},
   "outputs": [],
   "source": [
    "#concatenate_epochs_all_subjects\n",
    "\n",
    "# Define the parameters for the function\n",
    "subject_ids = ['01', '02', '03', '04', '05', '06', '07', '08', '09', '10', '11', '12', '13', '14']\n",
    "file_path = 'DATA/Data_Artifact_Layer/PTW{sub_id}_allwalk_artifact.set'\n",
    "#file_path = 'DATA/Data_Inner_Layer/PTW{sub_id}_allwalk_EEG.set'\n",
    "event_id = {'ULHS': 11, 'ULTO': 13, 'URHS': 14, 'URTO': 15}\n",
    "#event_id = {'PLHS': 6, 'PLTO': 8, 'PRHS': 9, 'PRTO': 10}\n",
    "#save_dir = 'DATA/Event_Epoched_Data_Artifact_Layer_128_0.05'\n",
    "save_dir = 'DATA/Event_Epoched_Data_Artifact_Layer_78_0.05'\n",
    "#save_dir = 'DATA/Event_Epoched_Data_Inner_Layer_128_0.05'\n",
    "#save_dir = 'DATA/Event_Epoched_Data_Inner_Layer_128_P'\n",
    "#save_dir = 'DATA/Event_Epoched_Data_Inner_Layer_78_0.05'\n",
    "#save_dir = 'DATA/Event_Epoched_Data_Inner_Layer_78_P'\n",
    "use_78_channels = True\n",
    "\n",
    "# Call the function\n",
    "all_data=preprocessed_data = preprocess_eeg_data(subject_ids, file_path, event_id, save_dir, use_78_channels)\n",
    "\n",
    "\n",
    "# Call the function\n",
    "#all_data = preprocess_eeg_data(subject_ids, file_path, event_id, save_dir)\n",
    "\n"
   ]
  },
  {
   "cell_type": "code",
   "execution_count": 35,
   "id": "2cf039b0",
   "metadata": {
    "scrolled": true
   },
   "outputs": [
    {
     "ename": "FileNotFoundError",
     "evalue": "File does not exist: C:\\Users\\kanka\\RA_Sem_2\\DATA\\Event_Epoched_Data_Inner_Layer_78_P\\my_epochs_ULHS-epo.fif",
     "output_type": "error",
     "traceback": [
      "\u001b[1;31m---------------------------------------------------------------------------\u001b[0m",
      "\u001b[1;31mFileNotFoundError\u001b[0m                         Traceback (most recent call last)",
      "Input \u001b[1;32mIn [35]\u001b[0m, in \u001b[0;36m<cell line: 13>\u001b[1;34m()\u001b[0m\n\u001b[0;32m     11\u001b[0m file_path \u001b[38;5;241m=\u001b[39m \u001b[38;5;124m'\u001b[39m\u001b[38;5;124mDATA\u001b[39m\u001b[38;5;124m\\\u001b[39m\u001b[38;5;124mEvent_Epoched_Data_Inner_Layer_78_P\u001b[39m\u001b[38;5;124m'\u001b[39m\n\u001b[0;32m     12\u001b[0m \u001b[38;5;66;03m#store the concatenate in all_epochs \u001b[39;00m\n\u001b[1;32m---> 13\u001b[0m all_data \u001b[38;5;241m=\u001b[39m \u001b[43mload_data\u001b[49m\u001b[43m(\u001b[49m\u001b[43mevent_id\u001b[49m\u001b[43m,\u001b[49m\u001b[43m \u001b[49m\u001b[43mfile_path\u001b[49m\u001b[43m)\u001b[49m\n",
      "File \u001b[1;32m~\\RA_Sem_2\\Read_data.py:12\u001b[0m, in \u001b[0;36mload_data\u001b[1;34m(event_id, file_path)\u001b[0m\n\u001b[0;32m     10\u001b[0m all_epochs \u001b[38;5;241m=\u001b[39m []\n\u001b[0;32m     11\u001b[0m \u001b[38;5;28;01mfor\u001b[39;00m event \u001b[38;5;129;01min\u001b[39;00m event_id:\n\u001b[1;32m---> 12\u001b[0m     epochs \u001b[38;5;241m=\u001b[39m \u001b[43mmne\u001b[49m\u001b[38;5;241;43m.\u001b[39;49m\u001b[43mread_epochs\u001b[49m\u001b[43m(\u001b[49m\u001b[38;5;124;43mf\u001b[39;49m\u001b[38;5;124;43m'\u001b[39;49m\u001b[38;5;132;43;01m{\u001b[39;49;00m\u001b[43mfile_path\u001b[49m\u001b[38;5;132;43;01m}\u001b[39;49;00m\u001b[38;5;124;43m/my_epochs_\u001b[39;49m\u001b[38;5;132;43;01m{\u001b[39;49;00m\u001b[43mevent\u001b[49m\u001b[38;5;132;43;01m}\u001b[39;49;00m\u001b[38;5;124;43m-epo.fif\u001b[39;49m\u001b[38;5;124;43m'\u001b[39;49m\u001b[43m)\u001b[49m\n\u001b[0;32m     13\u001b[0m     all_epochs\u001b[38;5;241m.\u001b[39mappend(epochs)\n\u001b[0;32m     14\u001b[0m all_data \u001b[38;5;241m=\u001b[39m mne\u001b[38;5;241m.\u001b[39mconcatenate_epochs(all_epochs)\n",
      "File \u001b[1;32m<decorator-gen-282>:12\u001b[0m, in \u001b[0;36mread_epochs\u001b[1;34m(fname, proj, preload, verbose)\u001b[0m\n",
      "File \u001b[1;32m~\\AppData\\Roaming\\Python\\Python39\\site-packages\\mne\\epochs.py:3175\u001b[0m, in \u001b[0;36mread_epochs\u001b[1;34m(fname, proj, preload, verbose)\u001b[0m\n\u001b[0;32m   3157\u001b[0m \u001b[38;5;129m@verbose\u001b[39m\n\u001b[0;32m   3158\u001b[0m \u001b[38;5;28;01mdef\u001b[39;00m \u001b[38;5;21mread_epochs\u001b[39m(fname, proj\u001b[38;5;241m=\u001b[39m\u001b[38;5;28;01mTrue\u001b[39;00m, preload\u001b[38;5;241m=\u001b[39m\u001b[38;5;28;01mTrue\u001b[39;00m, verbose\u001b[38;5;241m=\u001b[39m\u001b[38;5;28;01mNone\u001b[39;00m):\n\u001b[0;32m   3159\u001b[0m     \u001b[38;5;124;03m\"\"\"Read epochs from a fif file.\u001b[39;00m\n\u001b[0;32m   3160\u001b[0m \n\u001b[0;32m   3161\u001b[0m \u001b[38;5;124;03m    Parameters\u001b[39;00m\n\u001b[1;32m   (...)\u001b[0m\n\u001b[0;32m   3173\u001b[0m \u001b[38;5;124;03m        The epochs.\u001b[39;00m\n\u001b[0;32m   3174\u001b[0m \u001b[38;5;124;03m    \"\"\"\u001b[39;00m\n\u001b[1;32m-> 3175\u001b[0m     \u001b[38;5;28;01mreturn\u001b[39;00m \u001b[43mEpochsFIF\u001b[49m\u001b[43m(\u001b[49m\u001b[43mfname\u001b[49m\u001b[43m,\u001b[49m\u001b[43m \u001b[49m\u001b[43mproj\u001b[49m\u001b[43m,\u001b[49m\u001b[43m \u001b[49m\u001b[43mpreload\u001b[49m\u001b[43m,\u001b[49m\u001b[43m \u001b[49m\u001b[43mverbose\u001b[49m\u001b[43m)\u001b[49m\n",
      "File \u001b[1;32m<decorator-gen-283>:12\u001b[0m, in \u001b[0;36m__init__\u001b[1;34m(self, fname, proj, preload, verbose)\u001b[0m\n",
      "File \u001b[1;32m~\\AppData\\Roaming\\Python\\Python39\\site-packages\\mne\\epochs.py:3223\u001b[0m, in \u001b[0;36mEpochsFIF.__init__\u001b[1;34m(self, fname, proj, preload, verbose)\u001b[0m\n\u001b[0;32m   3218\u001b[0m \u001b[38;5;28;01mif\u001b[39;00m _path_like(fname):\n\u001b[0;32m   3219\u001b[0m     check_fname(\n\u001b[0;32m   3220\u001b[0m         fname\u001b[38;5;241m=\u001b[39mfname, filetype\u001b[38;5;241m=\u001b[39m\u001b[38;5;124m'\u001b[39m\u001b[38;5;124mepochs\u001b[39m\u001b[38;5;124m'\u001b[39m,\n\u001b[0;32m   3221\u001b[0m         endings\u001b[38;5;241m=\u001b[39m(\u001b[38;5;124m'\u001b[39m\u001b[38;5;124m-epo.fif\u001b[39m\u001b[38;5;124m'\u001b[39m, \u001b[38;5;124m'\u001b[39m\u001b[38;5;124m-epo.fif.gz\u001b[39m\u001b[38;5;124m'\u001b[39m, \u001b[38;5;124m'\u001b[39m\u001b[38;5;124m_epo.fif\u001b[39m\u001b[38;5;124m'\u001b[39m, \u001b[38;5;124m'\u001b[39m\u001b[38;5;124m_epo.fif.gz\u001b[39m\u001b[38;5;124m'\u001b[39m)\n\u001b[0;32m   3222\u001b[0m     )\n\u001b[1;32m-> 3223\u001b[0m     fname \u001b[38;5;241m=\u001b[39m \u001b[43m_check_fname\u001b[49m\u001b[43m(\u001b[49m\u001b[43mfname\u001b[49m\u001b[38;5;241;43m=\u001b[39;49m\u001b[43mfname\u001b[49m\u001b[43m,\u001b[49m\u001b[43m \u001b[49m\u001b[43mmust_exist\u001b[49m\u001b[38;5;241;43m=\u001b[39;49m\u001b[38;5;28;43;01mTrue\u001b[39;49;00m\u001b[43m,\u001b[49m\n\u001b[0;32m   3224\u001b[0m \u001b[43m                         \u001b[49m\u001b[43moverwrite\u001b[49m\u001b[38;5;241;43m=\u001b[39;49m\u001b[38;5;124;43m'\u001b[39;49m\u001b[38;5;124;43mread\u001b[39;49m\u001b[38;5;124;43m'\u001b[39;49m\u001b[43m)\u001b[49m\n\u001b[0;32m   3225\u001b[0m \u001b[38;5;28;01melif\u001b[39;00m \u001b[38;5;129;01mnot\u001b[39;00m preload:\n\u001b[0;32m   3226\u001b[0m     \u001b[38;5;28;01mraise\u001b[39;00m \u001b[38;5;167;01mValueError\u001b[39;00m(\u001b[38;5;124m'\u001b[39m\u001b[38;5;124mpreload must be used with file-like objects\u001b[39m\u001b[38;5;124m'\u001b[39m)\n",
      "File \u001b[1;32m<decorator-gen-0>:12\u001b[0m, in \u001b[0;36m_check_fname\u001b[1;34m(fname, overwrite, must_exist, name, need_dir, verbose)\u001b[0m\n",
      "File \u001b[1;32m~\\AppData\\Roaming\\Python\\Python39\\site-packages\\mne\\utils\\check.py:245\u001b[0m, in \u001b[0;36m_check_fname\u001b[1;34m(fname, overwrite, must_exist, name, need_dir, verbose)\u001b[0m\n\u001b[0;32m    242\u001b[0m             \u001b[38;5;28;01mraise\u001b[39;00m \u001b[38;5;167;01mPermissionError\u001b[39;00m(\n\u001b[0;32m    243\u001b[0m                 \u001b[38;5;124mf\u001b[39m\u001b[38;5;124m'\u001b[39m\u001b[38;5;132;01m{\u001b[39;00mname\u001b[38;5;132;01m}\u001b[39;00m\u001b[38;5;124m does not have read permissions: \u001b[39m\u001b[38;5;132;01m{\u001b[39;00mfname\u001b[38;5;132;01m}\u001b[39;00m\u001b[38;5;124m'\u001b[39m)\n\u001b[0;32m    244\u001b[0m \u001b[38;5;28;01melif\u001b[39;00m must_exist:\n\u001b[1;32m--> 245\u001b[0m     \u001b[38;5;28;01mraise\u001b[39;00m \u001b[38;5;167;01mFileNotFoundError\u001b[39;00m(\u001b[38;5;124mf\u001b[39m\u001b[38;5;124m'\u001b[39m\u001b[38;5;132;01m{\u001b[39;00mname\u001b[38;5;132;01m}\u001b[39;00m\u001b[38;5;124m does not exist: \u001b[39m\u001b[38;5;132;01m{\u001b[39;00mfname\u001b[38;5;132;01m}\u001b[39;00m\u001b[38;5;124m'\u001b[39m)\n\u001b[0;32m    247\u001b[0m \u001b[38;5;28;01mreturn\u001b[39;00m fname\n",
      "\u001b[1;31mFileNotFoundError\u001b[0m: File does not exist: C:\\Users\\kanka\\RA_Sem_2\\DATA\\Event_Epoched_Data_Inner_Layer_78_P\\my_epochs_ULHS-epo.fif"
     ]
    }
   ],
   "source": [
    "\n",
    "#Read the data\n",
    "\n",
    "#define the event_ids\n",
    "event_id = ('ULHS', 'ULTO', 'URHS', 'URTO')\n",
    "#event_id = ('PLHS', 'PLTO', 'PRHS', 'PRTO')\n",
    "#file_path = 'DATA\\Event_Epoched_Data_Artifact_Layer_128_0.05'\n",
    "#file_path = 'DATA\\Event_Epoched_Data_Artifact_Layer_78_0.05'\n",
    "#file_path = 'DATA\\Event_Epoched_Data_Inner_Layer_128_0.05'\n",
    "#file_path = 'DATA\\Event_Epoched_Data_Inner_Layer_78_0.05'\n",
    "#file_path = 'DATA/Event_Epoched_Data_ICA_78'\n",
    "#file_path = 'DATA\\Event_Epoched_Data_Inner_Layer_78_P'\n",
    "#store the concatenate in all_epochs \n",
    "all_data = load_data(event_id, file_path)"
   ]
  },
  {
   "cell_type": "code",
   "execution_count": 14,
   "id": "8ded4f80",
   "metadata": {},
   "outputs": [
    {
     "data": {
      "text/html": [
       "<table class=\"table table-hover table-striped table-sm table-responsive small\">\n",
       "    <tr>\n",
       "        <th>Number of events</th>\n",
       "        <td>2</td>\n",
       "    </tr>\n",
       "    <tr>\n",
       "        <th>Events</th>\n",
       "        \n",
       "        <td>ULHS: 2</td>\n",
       "        \n",
       "    </tr>\n",
       "    <tr>\n",
       "        <th>Time range</th>\n",
       "        <td>-0.051 – 0.051 sec</td>\n",
       "    </tr>\n",
       "    <tr>\n",
       "        <th>Baseline</th>\n",
       "        <td>-0.051 – 0.000 sec</td>\n",
       "    </tr>\n",
       "</table>"
      ],
      "text/plain": [
       "<EpochsArray |  2 events (all good), -0.0507812 - 0.0507812 sec, baseline -0.0507812 – 0 sec, ~197 kB, data loaded,\n",
       " 'ULHS': 2>"
      ]
     },
     "execution_count": 14,
     "metadata": {},
     "output_type": "execute_result"
    }
   ],
   "source": [
    "all_data"
   ]
  },
  {
   "cell_type": "code",
   "execution_count": 5,
   "id": "13a6ad3d",
   "metadata": {},
   "outputs": [
    {
     "data": {
      "text/plain": [
       "array([[[-5.63817783e-07,  2.24351639e-06,  2.83243913e-06, ...,\n",
       "          9.87597649e-06,  8.95040982e-06,  9.55030053e-06],\n",
       "        [-7.66549071e-07,  9.53731095e-07,  1.30715570e-06, ...,\n",
       "         -2.02809145e-06, -3.92585446e-06, -5.15477515e-06],\n",
       "        [-8.29463671e-06, -6.22789906e-06, -3.86469816e-06, ...,\n",
       "         -8.26957891e-06, -1.15064430e-05, -1.11008959e-05],\n",
       "        ...,\n",
       "        [-1.05659923e-05, -7.66250705e-06, -7.29122495e-06, ...,\n",
       "         -6.30962323e-06, -7.89376639e-06, -5.68557310e-06],\n",
       "        [-1.38274659e-05, -7.60855241e-06, -8.25329394e-06, ...,\n",
       "         -7.83084626e-06, -9.72153563e-06, -7.77981849e-06],\n",
       "        [-1.68882846e-05, -1.09644536e-05, -1.04102534e-05, ...,\n",
       "         -8.30999844e-06, -1.13556728e-05, -7.79655259e-06]],\n",
       "\n",
       "       [[ 4.99474614e-06,  5.60725777e-06,  3.24426001e-06, ...,\n",
       "         -1.90323096e-06, -3.26215630e-06, -7.65502450e-07],\n",
       "        [-7.13876007e-06, -6.76504467e-06, -5.97848986e-06, ...,\n",
       "          1.97394896e-06,  1.59279728e-06,  2.87199044e-06],\n",
       "        [-1.40329913e-05, -1.37629298e-05, -1.00124377e-05, ...,\n",
       "          9.85658555e-06,  1.03959361e-05,  1.02902852e-05],\n",
       "        ...,\n",
       "        [-4.08578053e-06, -4.10706559e-06,  1.48758371e-06, ...,\n",
       "          9.39128404e-06,  1.05849515e-05,  1.05667315e-05],\n",
       "        [-8.81827267e-06, -9.98987301e-06, -2.88315878e-06, ...,\n",
       "          8.22367179e-06,  1.27085122e-05,  1.21797246e-05],\n",
       "        [-1.38577040e-05, -8.97467027e-06, -4.64845120e-06, ...,\n",
       "          8.41190443e-06,  1.17081176e-05,  1.09087249e-05]],\n",
       "\n",
       "       [[-8.16624825e-06, -9.88516133e-06, -3.76514811e-06, ...,\n",
       "         -6.98880094e-06, -1.13662004e-05, -1.30724391e-05],\n",
       "        [ 6.22270060e-06,  2.48035933e-06,  3.58806803e-07, ...,\n",
       "          6.03140785e-07, -3.66128037e-06, -2.96187375e-06],\n",
       "        [ 5.18169160e-06, -5.13191225e-06, -7.74062539e-06, ...,\n",
       "          4.13371464e-06, -1.18266823e-06,  3.14440676e-06],\n",
       "        ...,\n",
       "        [-6.91667641e-07, -2.26624872e-06, -7.07560349e-06, ...,\n",
       "          1.92088794e-05,  1.84916534e-05,  1.94195079e-05],\n",
       "        [-8.98150680e-07, -6.38754509e-06, -8.91867254e-06, ...,\n",
       "          1.98959121e-05,  1.21927795e-05,  2.43321246e-05],\n",
       "        [ 3.89516814e-06, -1.15772487e-05, -1.26089908e-05, ...,\n",
       "          1.44742744e-05,  7.91822416e-06,  2.26659620e-05]],\n",
       "\n",
       "       ...,\n",
       "\n",
       "       [[-2.35076864e-05,  2.74579895e-06,  2.27238103e-05, ...,\n",
       "         -1.10756472e-05, -1.07767323e-05, -1.63169630e-05],\n",
       "        [ 1.40621805e-05,  1.07321891e-06, -7.78999473e-06, ...,\n",
       "         -2.63771298e-06, -6.87399297e-07,  6.60919693e-07],\n",
       "        [-3.68342654e-06,  4.24185585e-07,  4.60433346e-06, ...,\n",
       "          6.67807411e-07, -1.72876327e-06, -8.05195019e-07],\n",
       "        ...,\n",
       "        [ 1.29052180e-05, -9.44633643e-07, -9.50227072e-06, ...,\n",
       "          8.25744241e-06,  8.15314096e-06,  1.27491893e-05],\n",
       "        [ 1.44074716e-05, -1.17282104e-07, -9.39950944e-06, ...,\n",
       "          8.55449194e-06,  8.36020369e-06,  1.24897661e-05],\n",
       "        [ 1.62176647e-05, -3.59691491e-07, -9.99849215e-06, ...,\n",
       "          8.87340741e-06,  8.10633664e-06,  1.17782116e-05]],\n",
       "\n",
       "       [[ 3.84627160e-06,  1.18206272e-06,  1.97429845e-06, ...,\n",
       "         -4.87673695e-07,  2.37067231e-06,  7.73377569e-06],\n",
       "        [ 2.22280971e-07,  2.44095761e-06,  2.44387680e-06, ...,\n",
       "         -4.95432131e-06, -5.90857927e-06, -7.87700406e-06],\n",
       "        [ 3.24203114e-06, -1.00896628e-06, -7.33280012e-07, ...,\n",
       "          9.86354993e-07,  6.01497864e-09, -2.50226969e-06],\n",
       "        ...,\n",
       "        [ 1.48571193e-05,  8.09267500e-06,  7.48252133e-06, ...,\n",
       "         -1.85894777e-05, -2.15323564e-05, -2.86342965e-05],\n",
       "        [ 1.64860230e-05,  8.16468528e-06,  7.24759772e-06, ...,\n",
       "         -1.88685893e-05, -2.24634570e-05, -2.89048976e-05],\n",
       "        [ 1.62412874e-05,  9.46039604e-06,  1.01914561e-05, ...,\n",
       "         -2.35609872e-05, -2.49492470e-05, -3.13618256e-05]],\n",
       "\n",
       "       [[ 1.09243886e-06, -4.41504949e-06, -4.79728454e-06, ...,\n",
       "          1.17853133e-06,  5.57164100e-06,  3.02748040e-06],\n",
       "        [ 5.42889117e-06,  6.75931261e-06,  8.10493086e-06, ...,\n",
       "         -4.48686837e-06, -5.72856663e-06, -2.01400756e-06],\n",
       "        [ 6.39167071e-06,  1.77657280e-05,  1.19833012e-05, ...,\n",
       "         -1.28130130e-05, -1.22646112e-05, -1.06851520e-05],\n",
       "        ...,\n",
       "        [ 1.92576617e-05,  4.07304724e-05,  2.65778655e-05, ...,\n",
       "         -2.65287284e-05, -2.97445106e-05, -2.93668441e-05],\n",
       "        [ 1.80331631e-05,  3.97547798e-05,  2.60697155e-05, ...,\n",
       "         -2.73772925e-05, -2.99380759e-05, -3.08428916e-05],\n",
       "        [ 1.94220046e-05,  3.79023245e-05,  2.70697459e-05, ...,\n",
       "         -2.80760956e-05, -3.14092712e-05, -3.30864754e-05]]])"
      ]
     },
     "execution_count": 5,
     "metadata": {},
     "output_type": "execute_result"
    }
   ],
   "source": [
    "all_data.get_data()"
   ]
  },
  {
   "cell_type": "code",
   "execution_count": 9,
   "id": "a9fda40f",
   "metadata": {},
   "outputs": [
    {
     "name": "stdout",
     "output_type": "stream",
     "text": [
      "Not setting metadata\n",
      "400 matching events found\n",
      "Applying baseline correction (mode: mean)\n",
      "<EpochsArray |  400 events (all good), -0.0507812 - 0.0507812 sec, baseline -0.0507812 – 0 sec, ~12.7 MB, data loaded,\n",
      " 'ULHS': 100\n",
      " 'ULTO': 100\n",
      " 'URHS': 100\n",
      " 'URTO': 100>\n",
      "(400, 78, 53)\n"
     ]
    }
   ],
   "source": [
    "#reducing the data for testing the code\n",
    "\n",
    "ULHS_samples = all_data[0:100]\n",
    "ULTO_samples = all_data[11034:11134]\n",
    "URHS_samples = all_data[22068:22168]\n",
    "URTO_samples = all_data[33102:33202]\n",
    "\n",
    "# Concatenate the EpochsArray objects\n",
    "data = mne.concatenate_epochs([ULHS_samples, ULTO_samples, URHS_samples, URTO_samples])\n",
    "\n",
    "# Print the information about the concatenated epochs\n",
    "print(data)\n",
    "print(data.get_data().shape)\n"
   ]
  },
  {
   "cell_type": "code",
   "execution_count": 10,
   "id": "1b4544c9",
   "metadata": {},
   "outputs": [
    {
     "name": "stdout",
     "output_type": "stream",
     "text": [
      "Epoch 1/100\n",
      "10/10 [==============================] - 4s 102ms/step - loss: 1.3999 - accuracy: 0.2313 - val_loss: 1.3247 - val_accuracy: 0.3500\n",
      "Epoch 2/100\n",
      "10/10 [==============================] - 0s 27ms/step - loss: 1.2913 - accuracy: 0.4000 - val_loss: 1.3142 - val_accuracy: 0.3625\n",
      "Epoch 3/100\n",
      "10/10 [==============================] - 0s 27ms/step - loss: 1.2299 - accuracy: 0.4250 - val_loss: 1.2872 - val_accuracy: 0.4000\n",
      "Epoch 4/100\n",
      "10/10 [==============================] - 0s 28ms/step - loss: 1.1845 - accuracy: 0.4594 - val_loss: 1.2637 - val_accuracy: 0.4375\n",
      "Epoch 5/100\n",
      "10/10 [==============================] - 0s 27ms/step - loss: 1.0998 - accuracy: 0.5594 - val_loss: 1.2293 - val_accuracy: 0.4500\n",
      "Epoch 6/100\n",
      "10/10 [==============================] - 0s 28ms/step - loss: 1.0531 - accuracy: 0.5562 - val_loss: 1.2143 - val_accuracy: 0.4125\n",
      "Epoch 7/100\n",
      "10/10 [==============================] - 0s 28ms/step - loss: 0.9966 - accuracy: 0.5719 - val_loss: 1.2131 - val_accuracy: 0.4375\n",
      "Epoch 8/100\n",
      "10/10 [==============================] - 0s 28ms/step - loss: 0.9188 - accuracy: 0.6156 - val_loss: 1.2289 - val_accuracy: 0.4250\n",
      "Epoch 9/100\n",
      "10/10 [==============================] - 0s 27ms/step - loss: 0.8369 - accuracy: 0.7000 - val_loss: 1.2500 - val_accuracy: 0.4000\n",
      "Epoch 10/100\n",
      "10/10 [==============================] - 0s 27ms/step - loss: 0.7609 - accuracy: 0.7188 - val_loss: 1.3385 - val_accuracy: 0.4625\n",
      "Epoch 11/100\n",
      "10/10 [==============================] - 0s 28ms/step - loss: 0.7521 - accuracy: 0.7125 - val_loss: 1.2829 - val_accuracy: 0.4875\n",
      "Epoch 12/100\n",
      "10/10 [==============================] - 0s 28ms/step - loss: 0.6595 - accuracy: 0.7656 - val_loss: 1.3763 - val_accuracy: 0.4625\n",
      "Epoch 13/100\n",
      "10/10 [==============================] - 0s 27ms/step - loss: 0.6332 - accuracy: 0.7688 - val_loss: 1.3285 - val_accuracy: 0.4625\n",
      "Epoch 14/100\n",
      "10/10 [==============================] - 0s 27ms/step - loss: 0.5847 - accuracy: 0.8000 - val_loss: 1.4123 - val_accuracy: 0.4750\n",
      "Epoch 15/100\n",
      "10/10 [==============================] - 0s 27ms/step - loss: 0.5189 - accuracy: 0.8000 - val_loss: 1.5314 - val_accuracy: 0.4500\n",
      "Epoch 16/100\n",
      "10/10 [==============================] - 0s 27ms/step - loss: 0.4590 - accuracy: 0.8438 - val_loss: 1.5471 - val_accuracy: 0.4500\n",
      "Epoch 17/100\n",
      "10/10 [==============================] - 0s 27ms/step - loss: 0.4135 - accuracy: 0.8813 - val_loss: 1.5285 - val_accuracy: 0.4375\n",
      "Epoch 18/100\n",
      "10/10 [==============================] - 0s 27ms/step - loss: 0.3888 - accuracy: 0.8719 - val_loss: 1.6494 - val_accuracy: 0.4750\n",
      "Epoch 19/100\n",
      "10/10 [==============================] - 0s 28ms/step - loss: 0.3585 - accuracy: 0.8906 - val_loss: 1.7294 - val_accuracy: 0.4625\n",
      "Epoch 20/100\n",
      "10/10 [==============================] - 0s 27ms/step - loss: 0.2976 - accuracy: 0.9094 - val_loss: 1.6361 - val_accuracy: 0.4625\n",
      "Epoch 21/100\n",
      "10/10 [==============================] - 0s 27ms/step - loss: 0.2765 - accuracy: 0.9281 - val_loss: 1.8814 - val_accuracy: 0.4625\n",
      "Epoch 22/100\n",
      "10/10 [==============================] - 0s 27ms/step - loss: 0.2786 - accuracy: 0.9250 - val_loss: 1.7748 - val_accuracy: 0.4500\n",
      "Epoch 23/100\n",
      "10/10 [==============================] - 0s 28ms/step - loss: 0.4037 - accuracy: 0.8687 - val_loss: 2.0969 - val_accuracy: 0.4375\n",
      "Epoch 24/100\n",
      "10/10 [==============================] - 0s 28ms/step - loss: 0.3677 - accuracy: 0.8938 - val_loss: 1.6649 - val_accuracy: 0.5125\n",
      "Epoch 25/100\n",
      "10/10 [==============================] - 0s 27ms/step - loss: 0.2957 - accuracy: 0.9219 - val_loss: 1.6292 - val_accuracy: 0.4375\n",
      "Epoch 26/100\n",
      "10/10 [==============================] - 0s 27ms/step - loss: 0.2265 - accuracy: 0.9438 - val_loss: 1.7128 - val_accuracy: 0.4625\n",
      "Epoch 27/100\n",
      "10/10 [==============================] - 0s 27ms/step - loss: 0.1866 - accuracy: 0.9563 - val_loss: 1.8204 - val_accuracy: 0.4875\n",
      "Epoch 28/100\n",
      "10/10 [==============================] - 0s 28ms/step - loss: 0.1574 - accuracy: 0.9719 - val_loss: 1.9311 - val_accuracy: 0.4625\n",
      "Epoch 29/100\n",
      "10/10 [==============================] - 0s 27ms/step - loss: 0.1424 - accuracy: 0.9812 - val_loss: 2.0121 - val_accuracy: 0.4500\n",
      "Epoch 30/100\n",
      "10/10 [==============================] - 0s 27ms/step - loss: 0.1338 - accuracy: 0.9750 - val_loss: 1.9904 - val_accuracy: 0.4750\n",
      "Epoch 31/100\n",
      "10/10 [==============================] - 0s 27ms/step - loss: 0.1141 - accuracy: 0.9719 - val_loss: 2.2287 - val_accuracy: 0.4250\n",
      "Epoch 32/100\n",
      "10/10 [==============================] - 0s 27ms/step - loss: 0.1178 - accuracy: 0.9812 - val_loss: 2.2126 - val_accuracy: 0.4625\n",
      "Epoch 33/100\n",
      "10/10 [==============================] - 0s 27ms/step - loss: 0.0944 - accuracy: 0.9875 - val_loss: 2.2412 - val_accuracy: 0.4500\n",
      "Epoch 34/100\n",
      "10/10 [==============================] - 0s 27ms/step - loss: 0.1184 - accuracy: 0.9812 - val_loss: 2.2199 - val_accuracy: 0.4750\n",
      "Epoch 35/100\n",
      "10/10 [==============================] - 0s 27ms/step - loss: 0.1403 - accuracy: 0.9688 - val_loss: 2.3497 - val_accuracy: 0.4000\n",
      "Epoch 36/100\n",
      "10/10 [==============================] - 0s 27ms/step - loss: 0.1115 - accuracy: 0.9781 - val_loss: 2.4549 - val_accuracy: 0.3750\n",
      "Epoch 37/100\n",
      "10/10 [==============================] - 0s 27ms/step - loss: 0.0830 - accuracy: 0.9906 - val_loss: 2.4825 - val_accuracy: 0.3750\n",
      "Epoch 38/100\n",
      "10/10 [==============================] - 0s 27ms/step - loss: 0.0978 - accuracy: 0.9812 - val_loss: 2.4446 - val_accuracy: 0.4125\n",
      "Epoch 39/100\n",
      "10/10 [==============================] - 0s 27ms/step - loss: 0.1166 - accuracy: 0.9750 - val_loss: 2.5213 - val_accuracy: 0.4125\n",
      "Epoch 40/100\n",
      "10/10 [==============================] - 0s 27ms/step - loss: 0.0879 - accuracy: 0.9844 - val_loss: 2.5506 - val_accuracy: 0.4250\n",
      "Epoch 41/100\n",
      "10/10 [==============================] - 0s 27ms/step - loss: 0.0690 - accuracy: 0.9906 - val_loss: 2.5502 - val_accuracy: 0.4000\n",
      "Epoch 42/100\n",
      "10/10 [==============================] - 0s 27ms/step - loss: 0.0692 - accuracy: 0.9937 - val_loss: 2.4998 - val_accuracy: 0.3875\n",
      "Epoch 43/100\n",
      "10/10 [==============================] - 0s 27ms/step - loss: 0.0676 - accuracy: 0.9906 - val_loss: 2.5545 - val_accuracy: 0.3875\n",
      "Epoch 44/100\n",
      "10/10 [==============================] - 0s 26ms/step - loss: 0.0605 - accuracy: 0.9937 - val_loss: 2.3648 - val_accuracy: 0.4625\n",
      "Epoch 45/100\n",
      "10/10 [==============================] - 0s 26ms/step - loss: 0.0636 - accuracy: 0.9906 - val_loss: 2.5470 - val_accuracy: 0.4625\n",
      "Epoch 46/100\n",
      "10/10 [==============================] - 0s 27ms/step - loss: 0.0675 - accuracy: 0.9875 - val_loss: 2.5619 - val_accuracy: 0.4500\n",
      "Epoch 47/100\n",
      "10/10 [==============================] - 0s 26ms/step - loss: 0.1190 - accuracy: 0.9812 - val_loss: 2.5106 - val_accuracy: 0.4750\n",
      "Epoch 48/100\n",
      "10/10 [==============================] - 0s 27ms/step - loss: 0.0940 - accuracy: 0.9750 - val_loss: 2.6370 - val_accuracy: 0.4375\n",
      "Epoch 49/100\n",
      "10/10 [==============================] - 0s 27ms/step - loss: 0.2138 - accuracy: 0.9438 - val_loss: 2.4770 - val_accuracy: 0.4250\n",
      "Epoch 50/100\n",
      "10/10 [==============================] - 0s 27ms/step - loss: 0.1722 - accuracy: 0.9531 - val_loss: 2.5784 - val_accuracy: 0.4250\n",
      "Epoch 51/100\n",
      "10/10 [==============================] - 0s 27ms/step - loss: 0.1469 - accuracy: 0.9563 - val_loss: 2.7115 - val_accuracy: 0.4125\n",
      "Epoch 52/100\n",
      "10/10 [==============================] - 0s 27ms/step - loss: 0.2333 - accuracy: 0.9344 - val_loss: 2.3307 - val_accuracy: 0.4250\n",
      "Epoch 53/100\n",
      "10/10 [==============================] - 0s 27ms/step - loss: 0.2168 - accuracy: 0.9469 - val_loss: 2.3289 - val_accuracy: 0.4250\n",
      "Epoch 54/100\n",
      "10/10 [==============================] - 0s 27ms/step - loss: 0.1877 - accuracy: 0.9531 - val_loss: 2.3425 - val_accuracy: 0.4250\n",
      "Epoch 55/100\n",
      "10/10 [==============================] - 0s 27ms/step - loss: 0.1417 - accuracy: 0.9594 - val_loss: 2.0802 - val_accuracy: 0.4750\n",
      "Epoch 56/100\n",
      "10/10 [==============================] - 0s 27ms/step - loss: 0.0618 - accuracy: 0.9906 - val_loss: 2.3043 - val_accuracy: 0.4500\n",
      "Epoch 57/100\n",
      "10/10 [==============================] - 0s 27ms/step - loss: 0.0507 - accuracy: 0.9937 - val_loss: 2.4171 - val_accuracy: 0.4625\n",
      "Epoch 58/100\n",
      "10/10 [==============================] - 0s 27ms/step - loss: 0.0362 - accuracy: 0.9969 - val_loss: 2.5100 - val_accuracy: 0.4625\n",
      "Epoch 59/100\n",
      "10/10 [==============================] - 0s 26ms/step - loss: 0.0374 - accuracy: 1.0000 - val_loss: 2.6158 - val_accuracy: 0.4500\n",
      "Epoch 60/100\n",
      "10/10 [==============================] - 0s 27ms/step - loss: 0.0413 - accuracy: 0.9969 - val_loss: 2.6876 - val_accuracy: 0.4375\n",
      "Epoch 61/100\n",
      "10/10 [==============================] - 0s 27ms/step - loss: 0.0299 - accuracy: 1.0000 - val_loss: 2.7378 - val_accuracy: 0.4375\n",
      "Epoch 62/100\n",
      "10/10 [==============================] - 0s 27ms/step - loss: 0.0285 - accuracy: 0.9969 - val_loss: 2.7849 - val_accuracy: 0.4375\n",
      "Epoch 63/100\n",
      "10/10 [==============================] - 0s 27ms/step - loss: 0.0224 - accuracy: 1.0000 - val_loss: 2.8444 - val_accuracy: 0.4250\n",
      "Epoch 64/100\n",
      "10/10 [==============================] - 0s 27ms/step - loss: 0.0260 - accuracy: 1.0000 - val_loss: 2.8720 - val_accuracy: 0.4375\n",
      "Epoch 65/100\n",
      "10/10 [==============================] - 0s 27ms/step - loss: 0.0233 - accuracy: 0.9969 - val_loss: 2.9104 - val_accuracy: 0.4250\n",
      "Epoch 66/100\n",
      "10/10 [==============================] - 0s 27ms/step - loss: 0.0258 - accuracy: 0.9969 - val_loss: 2.9466 - val_accuracy: 0.4125\n",
      "Epoch 67/100\n",
      "10/10 [==============================] - 0s 27ms/step - loss: 0.0207 - accuracy: 1.0000 - val_loss: 2.9947 - val_accuracy: 0.4250\n",
      "Epoch 68/100\n",
      "10/10 [==============================] - 0s 27ms/step - loss: 0.0244 - accuracy: 0.9969 - val_loss: 3.0400 - val_accuracy: 0.4250\n",
      "Epoch 69/100\n",
      "10/10 [==============================] - 0s 27ms/step - loss: 0.0175 - accuracy: 1.0000 - val_loss: 3.0816 - val_accuracy: 0.4250\n",
      "Epoch 70/100\n",
      "10/10 [==============================] - 0s 27ms/step - loss: 0.0169 - accuracy: 1.0000 - val_loss: 3.1204 - val_accuracy: 0.4125\n",
      "Epoch 71/100\n",
      "10/10 [==============================] - 0s 27ms/step - loss: 0.0197 - accuracy: 1.0000 - val_loss: 3.1588 - val_accuracy: 0.4250\n",
      "Epoch 72/100\n",
      "10/10 [==============================] - 0s 27ms/step - loss: 0.0219 - accuracy: 0.9969 - val_loss: 3.1650 - val_accuracy: 0.4125\n",
      "Epoch 73/100\n",
      "10/10 [==============================] - 0s 27ms/step - loss: 0.0206 - accuracy: 0.9969 - val_loss: 3.2236 - val_accuracy: 0.4125\n",
      "Epoch 74/100\n",
      "10/10 [==============================] - 0s 27ms/step - loss: 0.0178 - accuracy: 0.9969 - val_loss: 3.2472 - val_accuracy: 0.4375\n",
      "Epoch 75/100\n",
      "10/10 [==============================] - 0s 27ms/step - loss: 0.0216 - accuracy: 0.9969 - val_loss: 3.2311 - val_accuracy: 0.4250\n",
      "Epoch 76/100\n",
      "10/10 [==============================] - 0s 27ms/step - loss: 0.0189 - accuracy: 0.9969 - val_loss: 3.1626 - val_accuracy: 0.4375\n",
      "Epoch 77/100\n",
      "10/10 [==============================] - 0s 27ms/step - loss: 0.0145 - accuracy: 0.9969 - val_loss: 3.1569 - val_accuracy: 0.4375\n",
      "Epoch 78/100\n",
      "10/10 [==============================] - 0s 27ms/step - loss: 0.0160 - accuracy: 1.0000 - val_loss: 3.1794 - val_accuracy: 0.4375\n",
      "Epoch 79/100\n",
      "10/10 [==============================] - 0s 27ms/step - loss: 0.0181 - accuracy: 1.0000 - val_loss: 3.1938 - val_accuracy: 0.4375\n",
      "Epoch 80/100\n",
      "10/10 [==============================] - 0s 27ms/step - loss: 0.0243 - accuracy: 0.9969 - val_loss: 3.4217 - val_accuracy: 0.4125\n",
      "Epoch 81/100\n",
      "10/10 [==============================] - 0s 27ms/step - loss: 0.0253 - accuracy: 0.9937 - val_loss: 3.5283 - val_accuracy: 0.4000\n",
      "Epoch 82/100\n",
      "10/10 [==============================] - 0s 27ms/step - loss: 0.0277 - accuracy: 0.9969 - val_loss: 3.5626 - val_accuracy: 0.3750\n",
      "Epoch 83/100\n",
      "10/10 [==============================] - 0s 27ms/step - loss: 0.0158 - accuracy: 0.9969 - val_loss: 3.5997 - val_accuracy: 0.3750\n",
      "Epoch 84/100\n",
      "10/10 [==============================] - 0s 27ms/step - loss: 0.0167 - accuracy: 1.0000 - val_loss: 3.3928 - val_accuracy: 0.3875\n",
      "Epoch 85/100\n",
      "10/10 [==============================] - 0s 27ms/step - loss: 0.0150 - accuracy: 1.0000 - val_loss: 3.2922 - val_accuracy: 0.4125\n",
      "Epoch 86/100\n",
      "10/10 [==============================] - 0s 27ms/step - loss: 0.0143 - accuracy: 1.0000 - val_loss: 3.2564 - val_accuracy: 0.4125\n",
      "Epoch 87/100\n",
      "10/10 [==============================] - 0s 27ms/step - loss: 0.0115 - accuracy: 1.0000 - val_loss: 3.2630 - val_accuracy: 0.4125\n",
      "Epoch 88/100\n",
      "10/10 [==============================] - 0s 27ms/step - loss: 0.0147 - accuracy: 1.0000 - val_loss: 3.3578 - val_accuracy: 0.4000\n",
      "Epoch 89/100\n",
      "10/10 [==============================] - 0s 27ms/step - loss: 0.0120 - accuracy: 1.0000 - val_loss: 3.4268 - val_accuracy: 0.4125\n",
      "Epoch 90/100\n",
      "10/10 [==============================] - 0s 27ms/step - loss: 0.0149 - accuracy: 0.9969 - val_loss: 3.3906 - val_accuracy: 0.3875\n",
      "Epoch 91/100\n",
      "10/10 [==============================] - 0s 27ms/step - loss: 0.0419 - accuracy: 0.9906 - val_loss: 3.5271 - val_accuracy: 0.3500\n",
      "Epoch 92/100\n",
      "10/10 [==============================] - 0s 27ms/step - loss: 0.0140 - accuracy: 0.9969 - val_loss: 3.3693 - val_accuracy: 0.3750\n",
      "Epoch 93/100\n",
      "10/10 [==============================] - 0s 27ms/step - loss: 0.0172 - accuracy: 0.9969 - val_loss: 3.2903 - val_accuracy: 0.4125\n",
      "Epoch 94/100\n",
      "10/10 [==============================] - 0s 27ms/step - loss: 0.0121 - accuracy: 1.0000 - val_loss: 3.3012 - val_accuracy: 0.4125\n",
      "Epoch 95/100\n",
      "10/10 [==============================] - 0s 27ms/step - loss: 0.0113 - accuracy: 1.0000 - val_loss: 3.2916 - val_accuracy: 0.4375\n",
      "Epoch 96/100\n",
      "10/10 [==============================] - 0s 27ms/step - loss: 0.0153 - accuracy: 0.9969 - val_loss: 3.2823 - val_accuracy: 0.4375\n",
      "Epoch 97/100\n",
      "10/10 [==============================] - 0s 27ms/step - loss: 0.0111 - accuracy: 1.0000 - val_loss: 3.3630 - val_accuracy: 0.3875\n",
      "Epoch 98/100\n",
      "10/10 [==============================] - 0s 27ms/step - loss: 0.0120 - accuracy: 1.0000 - val_loss: 3.4271 - val_accuracy: 0.3875\n",
      "Epoch 99/100\n",
      "10/10 [==============================] - 0s 27ms/step - loss: 0.0322 - accuracy: 0.9937 - val_loss: 3.2964 - val_accuracy: 0.4125\n",
      "Epoch 100/100\n",
      "10/10 [==============================] - 0s 27ms/step - loss: 0.0093 - accuracy: 1.0000 - val_loss: 3.5310 - val_accuracy: 0.4125\n",
      "3/3 - 0s - loss: 3.5310 - accuracy: 0.4125 - 37ms/epoch - 12ms/step\n",
      "Test accuracy: 0.4124999940395355\n",
      "3/3 [==============================] - 1s 8ms/step\n",
      "              precision    recall  f1-score   support\n",
      "\n",
      "           0       0.64      0.35      0.45        26\n",
      "           1       0.36      0.56      0.43        18\n",
      "           2       0.28      0.28      0.28        18\n",
      "           3       0.45      0.50      0.47        18\n",
      "\n",
      "    accuracy                           0.41        80\n",
      "   macro avg       0.43      0.42      0.41        80\n",
      "weighted avg       0.45      0.41      0.41        80\n",
      "\n",
      "[[ 9  2  9  6]\n",
      " [ 2 10  2  4]\n",
      " [ 3  9  5  1]\n",
      " [ 0  7  2  9]]\n"
     ]
    }
   ],
   "source": [
    "#passing data to train LSTM model\n",
    "#the model is stored in .h5 file\n",
    "model, history = lstm_model(data, 'output')\n",
    "from tensorflow.keras.models import load_model\n",
    "\n",
    "# Load the LSTM model from the HDF5 file\n",
    "loaded_model = load_model('output/LSTM.h5')\n"
   ]
  },
  {
   "cell_type": "code",
   "execution_count": 6,
   "id": "599409e9",
   "metadata": {},
   "outputs": [
    {
     "data": {
      "text/html": [
       "<table class=\"table table-hover table-striped table-sm table-responsive small\">\n",
       "    <tr>\n",
       "        <th>Number of events</th>\n",
       "        <td>44136</td>\n",
       "    </tr>\n",
       "    <tr>\n",
       "        <th>Events</th>\n",
       "        \n",
       "        <td>ULHS: 11034<br/>ULTO: 11034<br/>URHS: 11034<br/>URTO: 11034</td>\n",
       "        \n",
       "    </tr>\n",
       "    <tr>\n",
       "        <th>Time range</th>\n",
       "        <td>-0.051 – 0.051 sec</td>\n",
       "    </tr>\n",
       "    <tr>\n",
       "        <th>Baseline</th>\n",
       "        <td>-0.051 – 0.000 sec</td>\n",
       "    </tr>\n",
       "</table>"
      ],
      "text/plain": [
       "<EpochsArray |  44136 events (all good), -0.0507812 - 0.0507812 sec, baseline -0.0507812 – 0 sec, ~1.36 GB, data loaded,\n",
       " 'ULHS': 11034\n",
       " 'ULTO': 11034\n",
       " 'URHS': 11034\n",
       " 'URTO': 11034>"
      ]
     },
     "execution_count": 6,
     "metadata": {},
     "output_type": "execute_result"
    }
   ],
   "source": [
    "all_data"
   ]
  },
  {
   "cell_type": "code",
   "execution_count": 30,
   "id": "42976294",
   "metadata": {},
   "outputs": [],
   "source": [
    "# Extract labels for epochs\n",
    "epoch_labels = np.array([all_data[i].events[0][2] for i in range(len(all_data))], dtype='U')\n",
    "np.savetxt('epoch_labels_test.csv', epoch_labels, delimiter=',', header='epoch', comments='', fmt='%s')"
   ]
  },
  {
   "cell_type": "code",
   "execution_count": 11,
   "id": "12f479c0",
   "metadata": {},
   "outputs": [
    {
     "data": {
      "text/plain": [
       "<keras.engine.sequential.Sequential at 0x2756b7a6fa0>"
      ]
     },
     "execution_count": 11,
     "metadata": {},
     "output_type": "execute_result"
    }
   ],
   "source": [
    "loaded_model"
   ]
  },
  {
   "cell_type": "code",
   "execution_count": 7,
   "id": "626f1519",
   "metadata": {},
   "outputs": [],
   "source": [
    "all_data=all_data[:2]"
   ]
  },
  {
   "cell_type": "code",
   "execution_count": 8,
   "id": "67bf7031",
   "metadata": {},
   "outputs": [
    {
     "name": "stdout",
     "output_type": "stream",
     "text": [
      "Current Time = 23:26:32\n"
     ]
    },
    {
     "name": "stderr",
     "output_type": "stream",
     "text": [
      "Extracting features: 100%|███████████████████████████████████████████████████████████████| 2/2 [00:00<00:00, 45.44it/s]\n"
     ]
    },
    {
     "name": "stdout",
     "output_type": "stream",
     "text": [
      "Current Time = 23:26:41\n"
     ]
    }
   ],
   "source": [
    "#feature extraction averaged across all channels\n",
    "\n",
    "now = datetime.now()\n",
    "current_time = now.strftime(\"%H:%M:%S\")\n",
    "print(\"Current Time =\", current_time)\n",
    "\n",
    "feature_df = extract_features(all_data)\n",
    "# Save the combined feature DataFrame to a CSV file\n",
    "feature_df.to_csv('feature_test.csv', index=False)\n",
    "\n",
    "\n",
    "now = datetime.now()\n",
    "current_time = now.strftime(\"%H:%M:%S\")\n",
    "print(\"Current Time =\", current_time)"
   ]
  },
  {
   "cell_type": "code",
   "execution_count": 9,
   "id": "9531b8e0",
   "metadata": {},
   "outputs": [
    {
     "name": "stdout",
     "output_type": "stream",
     "text": [
      "Current Time = 23:26:42\n"
     ]
    },
    {
     "name": "stderr",
     "output_type": "stream",
     "text": [
      "Extracting combined features: 100%|██████████████████████████████████████████████████████| 2/2 [00:00<00:00, 71.61it/s]\n"
     ]
    },
    {
     "name": "stdout",
     "output_type": "stream",
     "text": [
      "Current Time = 23:26:46\n"
     ]
    }
   ],
   "source": [
    "# feature Extraction across all_chanells\n",
    "now = datetime.now()\n",
    "current_time = now.strftime(\"%H:%M:%S\")\n",
    "print(\"Current Time =\", current_time)\n",
    "combined_feature_df = extract_combined_features(all_data)\n",
    "# Save the combined feature DataFrame to a CSV file\n",
    "combined_feature_df.to_csv('combined_feature_test.csv', index=False)\n",
    "now = datetime.now()\n",
    "current_time = now.strftime(\"%H:%M:%S\")\n",
    "print(\"Current Time =\", current_time)"
   ]
  },
  {
   "cell_type": "code",
   "execution_count": 10,
   "id": "ad1b1ae5",
   "metadata": {},
   "outputs": [],
   "source": [
    "# Read the feature.csv file into variable X\n",
    "X = pd.read_csv('feature (13).csv')\n",
    "\n",
    "# Read the epoch_labels.csv file into variable y\n",
    "y = pd.read_csv('epoch_labels.csv')"
   ]
  },
  {
   "cell_type": "code",
   "execution_count": 11,
   "id": "ff43958a",
   "metadata": {},
   "outputs": [
    {
     "name": "stderr",
     "output_type": "stream",
     "text": [
      "C:\\Users\\kanka\\RA_Sem_2\\Traning_Models2.py:102: DataConversionWarning: A column-vector y was passed when a 1d array was expected. Please change the shape of y to (n_samples,), for example using ravel().\n",
      "  model.fit(X_train, y_train)\n"
     ]
    },
    {
     "name": "stdout",
     "output_type": "stream",
     "text": [
      "Random Forest Accuracy: 0.5667723977213879\n",
      "              precision    recall  f1-score   support\n",
      "\n",
      "          11       0.53      0.54      0.53      7705\n",
      "          13       0.55      0.57      0.56      7693\n",
      "          14       0.59      0.59      0.59      7721\n",
      "          15       0.60      0.57      0.58      7777\n",
      "\n",
      "    accuracy                           0.57     30896\n",
      "   macro avg       0.57      0.57      0.57     30896\n",
      "weighted avg       0.57      0.57      0.57     30896\n",
      "\n",
      "[[4151 1169 1659  726]\n",
      " [1094 4376  657 1566]\n",
      " [1783  699 4562  677]\n",
      " [ 797 1716  842 4422]]\n"
     ]
    }
   ],
   "source": [
    "#train the Models on the features extracted\n",
    "\n",
    "#train the Models\n",
    "#save_dir = 'Trained_Models\\Trained_models_Artifact_Layer_128_0.05_f_a'\n",
    "save_dir='output'\n",
    "train_models_and_save_feature_extracted_data(X,y, save_dir)"
   ]
  },
  {
   "cell_type": "code",
   "execution_count": 16,
   "id": "b93752cd",
   "metadata": {},
   "outputs": [
    {
     "name": "stdout",
     "output_type": "stream",
     "text": [
      "Random Forest Accuracy: 0.4564344899016054\n",
      "              precision    recall  f1-score   support\n",
      "\n",
      "          11       0.43      0.45      0.44      7705\n",
      "          13       0.43      0.45      0.44      7693\n",
      "          14       0.46      0.45      0.45      7721\n",
      "          15       0.51      0.48      0.49      7777\n",
      "\n",
      "    accuracy                           0.46     30896\n",
      "   macro avg       0.46      0.46      0.46     30896\n",
      "weighted avg       0.46      0.46      0.46     30896\n",
      "\n",
      "[[3433 1479 1814  979]\n",
      " [1314 3473 1142 1764]\n",
      " [1961 1417 3443  900]\n",
      " [1191 1787 1046 3753]]\n"
     ]
    }
   ],
   "source": [
    "#train the Models raw data\n",
    "save_dir = 'output'\n",
    "train_models_and_save_raw_data(all_data, save_dir)"
   ]
  },
  {
   "cell_type": "code",
   "execution_count": 6,
   "id": "3f741560",
   "metadata": {},
   "outputs": [],
   "source": [
    "#make predictions on the final raw eeg file"
   ]
  },
  {
   "cell_type": "code",
   "execution_count": 17,
   "id": "1eb78ec2",
   "metadata": {
    "scrolled": true
   },
   "outputs": [
    {
     "name": "stdout",
     "output_type": "stream",
     "text": [
      "Reading C:\\Users\\kanka\\RA_Sem_2\\Data\\Data_Artifact_Layer\\PTW01_allwalk_artifact.fdt\n"
     ]
    },
    {
     "name": "stderr",
     "output_type": "stream",
     "text": [
      "C:\\Users\\kanka\\RA_Sem_2\\Extract_Window_Data.py:13: RuntimeWarning: Estimated head radius (11.3 cm) is above the 99th percentile for adult head size. Check if the montage_units argument is correct (the default is \"mm\", but your channel positions may be in different units).\n",
      "  raw = mne.io.read_raw_eeglab(file_path)\n"
     ]
    },
    {
     "name": "stdout",
     "output_type": "stream",
     "text": [
      "Used Annotations descriptions: ['CLHS', 'CLP_On', 'CLTO', 'CRHS', 'CRTO', 'PLHS', 'PLP_On', 'PLTO', 'PRHS', 'PRTO', 'ULHS', 'ULP_On', 'ULTO', 'URHS', 'URTO', 'boundary']\n"
     ]
    },
    {
     "name": "stderr",
     "output_type": "stream",
     "text": [
      "C:\\Users\\kanka\\RA_Sem_2\\Extract_Window_Data.py:13: RuntimeWarning: The data contains 'boundary' events, indicating data discontinuities. Be cautious of filtering and epoching around these events.\n",
      "  raw = mne.io.read_raw_eeglab(file_path)\n"
     ]
    }
   ],
   "source": [
    "file_path = 'Data\\Data_Artifact_Layer\\PTW01_allwalk_artifact.set'\n",
    "\n",
    "event_dict = {'CLHS': 1, 'CLP_On': 2, 'CLTO': 3, 'CRHS': 4, 'CRTO': 5,\n",
    "              'PLHS': 6, 'PLP_On': 7, 'PLTO': 8, 'PRHS': 9, 'PRTO': 10,\n",
    "              'ULHS': 11, 'ULP_On': 12, 'ULTO': 13, 'URHS': 14, 'URTO': 15,\n",
    "              'boundary': 16}\n",
    "\n",
    "window_times = [(0, 250), (500, 750)]\n",
    "\n",
    "save_dir = \"DATA\\Windowed_data\"\n",
    "\n",
    "window_data = extract_window_data(file_path, event_dict, 'ULHS', 'ULTO', window_times, save_dir)"
   ]
  },
  {
   "cell_type": "code",
   "execution_count": 18,
   "id": "362e1f46",
   "metadata": {
    "scrolled": true
   },
   "outputs": [
    {
     "data": {
      "text/plain": [
       "[    Event Name        Time  Sample Number\n",
       " 0         ULHS   25.544922          13079\n",
       " 1       ULP_On   25.560547          13087\n",
       " 2         URTO   25.835938          13228\n",
       " 3         URHS   26.328125          13480\n",
       " 4         ULTO   26.585938          13612\n",
       " ..         ...         ...            ...\n",
       " 500       ULHS  139.880859          71619\n",
       " 501     ULP_On  139.896484          71627\n",
       " 502       URTO  140.060547          71711\n",
       " 503       URHS  140.457031          71914\n",
       " 504       ULTO  140.630859          72003\n",
       " \n",
       " [505 rows x 3 columns],\n",
       "      Event Name        Time  Sample Number\n",
       " 2575       ULHS  620.974609         317939\n",
       " 2576     ULP_On  620.988281         317946\n",
       " 2577       URTO  621.164062         318036\n",
       " 2578       URHS  621.574219         318246\n",
       " 2579       ULTO  621.734375         318328\n",
       " ...         ...         ...            ...\n",
       " 3090       ULHS  739.167969         378454\n",
       " 3091     ULP_On  739.183594         378462\n",
       " 3092       URTO  739.361328         378553\n",
       " 3093       URHS  739.765625         378760\n",
       " 3094       ULTO  739.935547         378847\n",
       " \n",
       " [520 rows x 3 columns]]"
      ]
     },
     "execution_count": 18,
     "metadata": {},
     "output_type": "execute_result"
    }
   ],
   "source": [
    "window_data"
   ]
  },
  {
   "cell_type": "code",
   "execution_count": 22,
   "id": "91387b42",
   "metadata": {
    "scrolled": false
   },
   "outputs": [],
   "source": [
    "# Load the raw data\n",
    "raw_data = mne.io.read_raw_eeglab('Data\\Data_Artifact_Layer\\PTW01_allwalk_artifact.set')\n",
    "\n",
    "model_path='Trained_Models/Trained_models_Artifact_Layer_128/SVM Accuracy.pkl'\n",
    "\n",
    "# Assuming you have imported the necessary libraries and have loaded your raw data and set the model path\n",
    "\n",
    "# Call the function and pass the required parameters\n",
    "#def predict_events(raw_data, model_path, window_size, step_size, threshold=0.5, tmin=None, tmax=None):\n",
    "event_preds_times = predict_events(raw_data, model_path, window_size=0.201171875, step_size=0.001,t_min=40,t_max=41, threshold=0.5)\n",
    "\n",
    "# Print the predicted events and their times\n",
    "#print(event_preds_times)\n"
   ]
  },
  {
   "cell_type": "code",
   "execution_count": 8,
   "id": "12c0332b",
   "metadata": {},
   "outputs": [],
   "source": [
    "# call the save_event_times function\n",
    "output_dir = 'Final_Prediction/Test'\n",
    "save_event_times(event_preds_times, output_dir)"
   ]
  },
  {
   "cell_type": "code",
   "execution_count": 34,
   "id": "8a65b52b",
   "metadata": {},
   "outputs": [
    {
     "name": "stdout",
     "output_type": "stream",
     "text": [
      "Reading C:\\Users\\kanka\\RA_Sem_2\\DATA\\Data_Inner_Layer\\PTW01_allwalk_EEG.fdt\n",
      "Reading 0 ... 1536511  =      0.000 ...  3000.998 secs...\n"
     ]
    },
    {
     "name": "stderr",
     "output_type": "stream",
     "text": [
      "C:\\Users\\kanka\\RA_Sem_2\\Plot_Epoched_data.py:27: RuntimeWarning: Estimated head radius (11.3 cm) is above the 99th percentile for adult head size. Check if the montage_units argument is correct (the default is \"mm\", but your channel positions may be in different units).\n",
      "  raw = mne.io.read_raw_eeglab(raw_file_path, preload=True)\n",
      "C:\\Users\\kanka\\RA_Sem_2\\Plot_Epoched_data.py:27: RuntimeWarning: The data contains 'boundary' events, indicating data discontinuities. Be cautious of filtering and epoching around these events.\n",
      "  raw = mne.io.read_raw_eeglab(raw_file_path, preload=True)\n"
     ]
    },
    {
     "data": {
      "application/vnd.jupyter.widget-view+json": {
       "model_id": "c03c182a403c44cfb2b1f67cad82ae01",
       "version_major": 2,
       "version_minor": 0
      },
      "text/plain": [
       "interactive(children=(FloatSlider(value=1500.4, description='t', max=3000.998046875), Output()), _dom_classes=…"
      ]
     },
     "metadata": {},
     "output_type": "display_data"
    }
   ],
   "source": [
    "#plots if required for analysis\n",
    "\n",
    "# Load your raw EEG data file\n",
    "raw_file_path ='DATA/Data_Inner_Layer/PTW01_allwalk_EEG.set'\n",
    "\n",
    "# Load the epochs object (replace this with your actual epochs loading procedure)\n",
    "epochs = all_data\n",
    "\n",
    "# List of channel indices to plot\n",
    "z = [0, 1, 2]\n",
    "\n",
    "# List of plots to print (optional, remove or set to None to print all plots)\n",
    "plots_to_print = [\"interactive_plot\"]\n",
    "\n",
    "# Call the function\n",
    "plot_eeg_features(raw_file_path, epochs, z, plots_to_print)\n"
   ]
  },
  {
   "cell_type": "code",
   "execution_count": 28,
   "id": "a059298d",
   "metadata": {},
   "outputs": [
    {
     "data": {
      "text/html": [
       "<table class=\"table table-hover table-striped table-sm table-responsive small\">\n",
       "    <tr>\n",
       "        <th>Number of events</th>\n",
       "        <td>44136</td>\n",
       "    </tr>\n",
       "    <tr>\n",
       "        <th>Events</th>\n",
       "        \n",
       "        <td>ULHS: 11034<br/>ULTO: 11034<br/>URHS: 11034<br/>URTO: 11034</td>\n",
       "        \n",
       "    </tr>\n",
       "    <tr>\n",
       "        <th>Time range</th>\n",
       "        <td>-0.051 – 0.051 sec</td>\n",
       "    </tr>\n",
       "    <tr>\n",
       "        <th>Baseline</th>\n",
       "        <td>-0.051 – 0.000 sec</td>\n",
       "    </tr>\n",
       "</table>"
      ],
      "text/plain": [
       "<EpochsArray |  44136 events (all good), -0.0507812 - 0.0507812 sec, baseline -0.0507812 – 0 sec, ~1.36 GB, data loaded,\n",
       " 'ULHS': 11034\n",
       " 'ULTO': 11034\n",
       " 'URHS': 11034\n",
       " 'URTO': 11034>"
      ]
     },
     "execution_count": 28,
     "metadata": {},
     "output_type": "execute_result"
    }
   ],
   "source": [
    "all_data"
   ]
  },
  {
   "cell_type": "code",
   "execution_count": 26,
   "id": "23db549e",
   "metadata": {},
   "outputs": [
    {
     "data": {
      "image/png": "[encoded data removed]",
      "text/plain": [
       "<Figure size 720x504 with 2 Axes>"
      ]
     },
     "metadata": {
      "needs_background": "light"
     },
     "output_type": "display_data"
    }
   ],
   "source": [
    "#not in the code\n",
    "import matplotlib.pyplot as plt\n",
    "import seaborn as sns\n",
    "import pandas as pd\n",
    "\n",
    "datasets = ['Inner Layer (128)', 'Inner Layer (128)', 'Inner Layer (128)', 'Inner Layer (128)', 'Inner Layer (78)', 'Inner Layer (78)', 'Inner Layer (78)', 'Inner Layer (78)', 'Artifact Layer (128)', 'Artifact Layer (128)', 'Artifact Layer (128)', 'Artifact Layer (128)', 'Artifact Layer (78)', 'Artifact Layer (78)', 'Artifact Layer (78)', 'Artifact Layer (78)', 'ICA (Source signals)(78)', 'ICA (Source signals)(78)']\n",
    "models = ['RandomForest', 'RandomForest', 'SVM', 'Logistic Regression', 'RandomForest', 'RandomForest', 'SVM', 'Logistic Regression', 'RandomForest', 'RandomForest', 'SVM', 'Logistic Regression', 'RandomForest', 'RandomForest', 'SVM', 'Logistic Regression', 'RandomForest', 'RandomForest']\n",
    "performances = [0.76, 0.82, 0.83, 0.84, 0.45, 0.53, 0.59, 0.6, 0.91, 0.93, 0.89, 0.91, 0.91, 0.93, 0.86, 0.92, 0.55, 0.67]\n",
    "\n",
    "# Create a DataFrame with the data\n",
    "data = {\n",
    "    'Epoch Duration': [0.05, 0.1, 0.1, 0.1, 0.05, 0.1, 0.1, 0.1, 0.05, 0.1, 0.1, 0.1, 0.05, 0.1, 0.1, 0.1, 0.05, 0.1],\n",
    "    'Dataset': datasets,\n",
    "    'Model': models,\n",
    "    'Performance': performances\n",
    "}\n",
    "\n",
    "df = pd.DataFrame(data)\n",
    "\n",
    "# Pivot the DataFrame to prepare it for the heatmap\n",
    "pivot_df = df.pivot_table(values='Performance', index=['Dataset', 'Epoch Duration'], columns='Model')\n",
    "\n",
    "# Create the heatmap\n",
    "plt.figure(figsize=(10, 7))\n",
    "sns.heatmap(pivot_df, annot=True, cmap='viridis', linewidths=1)\n",
    "\n",
    "# Set the title of the plot\n",
    "plt.title('Heatmap of Model Performance')\n",
    "\n",
    "# Display the plot\n",
    "plt.show()\n"
   ]
  }
 ],
 "metadata": {
  "kernelspec": {
   "display_name": "Python 3 (ipykernel)",
   "language": "python",
   "name": "python3"
  },
  "language_info": {
   "codemirror_mode": {
    "name": "ipython",
    "version": 3
   },
   "file_extension": ".py",
   "mimetype": "text/x-python",
   "name": "python",
   "nbconvert_exporter": "python",
   "pygments_lexer": "ipython3",
   "version": "3.10.6"
  }
 },
 "nbformat": 4,
 "nbformat_minor": 5
}
