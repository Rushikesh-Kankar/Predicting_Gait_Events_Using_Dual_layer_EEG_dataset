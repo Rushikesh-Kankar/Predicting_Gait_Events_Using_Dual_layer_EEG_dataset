{
 "cells": [
  {
   "cell_type": "code",
   "execution_count": 1,
   "id": "0da7e1a9",
   "metadata": {},
   "outputs": [
    {
     "name": "stdout",
     "output_type": "stream",
     "text": [
      "Reading c:\\Users\\kanka\\OneDrive\\Desktop\\Predicting_Gait_Events_Using_Dual_layer_EEG_dataset\\DATA\\Data_Inner_Layer\\PTW01_allwalk_EEG.fdt\n",
      "Reading 0 ... 1536511  =      0.000 ...  3000.998 secs...\n"
     ]
    },
    {
     "name": "stderr",
     "output_type": "stream",
     "text": [
      "C:\\Users\\kanka\\AppData\\Local\\Temp\\ipykernel_27708\\3270261566.py:61: RuntimeWarning: Estimated head radius (11.3 cm) is above the 99th percentile for adult head size. Check if the montage_units argument is correct (the default is \"mm\", but your channel positions may be in different units).\n",
      "  raw = mne.io.read_raw_eeglab(set_file, preload=True)\n",
      "C:\\Users\\kanka\\AppData\\Local\\Temp\\ipykernel_27708\\3270261566.py:61: RuntimeWarning: The data contains 'boundary' events, indicating data discontinuities. Be cautious of filtering and epoching around these events.\n",
      "  raw = mne.io.read_raw_eeglab(set_file, preload=True)\n"
     ]
    },
    {
     "name": "stdout",
     "output_type": "stream",
     "text": [
      "Used Annotations descriptions: ['CLHS', 'CLP_On', 'CLTO', 'CRHS', 'CRTO', 'PLHS', 'PLP_On', 'PLTO', 'PRHS', 'PRTO', 'ULHS', 'ULP_On', 'ULTO', 'URHS', 'URTO', 'boundary']\n",
      "Creating RawArray with float64 data, n_channels=78, n_times=1536512\n",
      "    Range : 0 ... 1536511 =      0.000 ...  3000.998 secs\n",
      "Ready.\n",
      "Not setting metadata\n",
      "3244 matching events found\n",
      "Setting baseline interval to [-0.099609375, 0.0] sec\n",
      "Applying baseline correction (mode: mean)\n",
      "0 projection items activated\n",
      "Reading c:\\Users\\kanka\\OneDrive\\Desktop\\Predicting_Gait_Events_Using_Dual_layer_EEG_dataset\\DATA\\Data_Inner_Layer\\PTW02_allwalk_EEG.fdt\n",
      "Reading 0 ... 1543167  =      0.000 ...  3013.998 secs...\n"
     ]
    },
    {
     "name": "stderr",
     "output_type": "stream",
     "text": [
      "C:\\Users\\kanka\\AppData\\Local\\Temp\\ipykernel_27708\\3270261566.py:61: RuntimeWarning: Estimated head radius (11.7 cm) is above the 99th percentile for adult head size. Check if the montage_units argument is correct (the default is \"mm\", but your channel positions may be in different units).\n",
      "  raw = mne.io.read_raw_eeglab(set_file, preload=True)\n",
      "C:\\Users\\kanka\\AppData\\Local\\Temp\\ipykernel_27708\\3270261566.py:61: RuntimeWarning: The data contains 'boundary' events, indicating data discontinuities. Be cautious of filtering and epoching around these events.\n",
      "  raw = mne.io.read_raw_eeglab(set_file, preload=True)\n"
     ]
    },
    {
     "name": "stdout",
     "output_type": "stream",
     "text": [
      "Used Annotations descriptions: ['CLHS', 'CLP_On', 'CLTO', 'CRHS', 'CRTO', 'PLHS', 'PLP_On', 'PLTO', 'PRHS', 'PRTO', 'ULHS', 'ULP_On', 'ULTO', 'URHS', 'URTO', 'boundary']\n",
      "Creating RawArray with float64 data, n_channels=78, n_times=1543168\n",
      "    Range : 0 ... 1543167 =      0.000 ...  3013.998 secs\n",
      "Ready.\n",
      "Not setting metadata\n",
      "3224 matching events found\n",
      "Setting baseline interval to [-0.099609375, 0.0] sec\n",
      "Applying baseline correction (mode: mean)\n",
      "0 projection items activated\n",
      "Reading c:\\Users\\kanka\\OneDrive\\Desktop\\Predicting_Gait_Events_Using_Dual_layer_EEG_dataset\\DATA\\Data_Inner_Layer\\PTW03_allwalk_EEG.fdt\n",
      "Reading 0 ... 1546239  =      0.000 ...  3019.998 secs...\n"
     ]
    },
    {
     "name": "stderr",
     "output_type": "stream",
     "text": [
      "C:\\Users\\kanka\\AppData\\Local\\Temp\\ipykernel_27708\\3270261566.py:61: RuntimeWarning: Estimated head radius (11.5 cm) is above the 99th percentile for adult head size. Check if the montage_units argument is correct (the default is \"mm\", but your channel positions may be in different units).\n",
      "  raw = mne.io.read_raw_eeglab(set_file, preload=True)\n",
      "C:\\Users\\kanka\\AppData\\Local\\Temp\\ipykernel_27708\\3270261566.py:61: RuntimeWarning: The data contains 'boundary' events, indicating data discontinuities. Be cautious of filtering and epoching around these events.\n",
      "  raw = mne.io.read_raw_eeglab(set_file, preload=True)\n"
     ]
    },
    {
     "name": "stdout",
     "output_type": "stream",
     "text": [
      "Used Annotations descriptions: ['CLHS', 'CLP_On', 'CLTO', 'CRHS', 'CRTO', 'PLHS', 'PLP_On', 'PLTO', 'PRHS', 'PRTO', 'ULHS', 'ULP_On', 'ULTO', 'URHS', 'URTO', 'boundary']\n",
      "Creating RawArray with float64 data, n_channels=78, n_times=1546240\n",
      "    Range : 0 ... 1546239 =      0.000 ...  3019.998 secs\n",
      "Ready.\n",
      "Not setting metadata\n",
      "3324 matching events found\n",
      "Setting baseline interval to [-0.099609375, 0.0] sec\n",
      "Applying baseline correction (mode: mean)\n",
      "0 projection items activated\n",
      "Reading c:\\Users\\kanka\\OneDrive\\Desktop\\Predicting_Gait_Events_Using_Dual_layer_EEG_dataset\\DATA\\Data_Inner_Layer\\PTW04_allwalk_EEG.fdt\n",
      "Reading 0 ... 1539583  =      0.000 ...  3006.998 secs...\n"
     ]
    },
    {
     "name": "stderr",
     "output_type": "stream",
     "text": [
      "C:\\Users\\kanka\\AppData\\Local\\Temp\\ipykernel_27708\\3270261566.py:61: RuntimeWarning: Estimated head radius (11.7 cm) is above the 99th percentile for adult head size. Check if the montage_units argument is correct (the default is \"mm\", but your channel positions may be in different units).\n",
      "  raw = mne.io.read_raw_eeglab(set_file, preload=True)\n",
      "C:\\Users\\kanka\\AppData\\Local\\Temp\\ipykernel_27708\\3270261566.py:61: RuntimeWarning: The data contains 'boundary' events, indicating data discontinuities. Be cautious of filtering and epoching around these events.\n",
      "  raw = mne.io.read_raw_eeglab(set_file, preload=True)\n"
     ]
    },
    {
     "name": "stdout",
     "output_type": "stream",
     "text": [
      "Used Annotations descriptions: ['CLHS', 'CLP_On', 'CLTO', 'CRHS', 'CRTO', 'PLHS', 'PLP_On', 'PLTO', 'PRHS', 'PRTO', 'ULHS', 'ULP_On', 'ULTO', 'URHS', 'URTO', 'boundary']\n",
      "Creating RawArray with float64 data, n_channels=78, n_times=1539584\n",
      "    Range : 0 ... 1539583 =      0.000 ...  3006.998 secs\n",
      "Ready.\n",
      "Not setting metadata\n",
      "3076 matching events found\n",
      "Setting baseline interval to [-0.099609375, 0.0] sec\n",
      "Applying baseline correction (mode: mean)\n",
      "0 projection items activated\n",
      "Reading c:\\Users\\kanka\\OneDrive\\Desktop\\Predicting_Gait_Events_Using_Dual_layer_EEG_dataset\\DATA\\Data_Inner_Layer\\PTW05_allwalk_EEG.fdt\n",
      "Reading 0 ... 1534463  =      0.000 ...  2996.998 secs...\n"
     ]
    },
    {
     "name": "stderr",
     "output_type": "stream",
     "text": [
      "C:\\Users\\kanka\\AppData\\Local\\Temp\\ipykernel_27708\\3270261566.py:61: RuntimeWarning: Estimated head radius (11.1 cm) is above the 99th percentile for adult head size. Check if the montage_units argument is correct (the default is \"mm\", but your channel positions may be in different units).\n",
      "  raw = mne.io.read_raw_eeglab(set_file, preload=True)\n",
      "C:\\Users\\kanka\\AppData\\Local\\Temp\\ipykernel_27708\\3270261566.py:61: RuntimeWarning: The data contains 'boundary' events, indicating data discontinuities. Be cautious of filtering and epoching around these events.\n",
      "  raw = mne.io.read_raw_eeglab(set_file, preload=True)\n"
     ]
    },
    {
     "name": "stdout",
     "output_type": "stream",
     "text": [
      "Used Annotations descriptions: ['CLHS', 'CLP_On', 'CLTO', 'CRHS', 'CRTO', 'PLHS', 'PLP_On', 'PLTO', 'PRHS', 'PRTO', 'ULHS', 'ULP_On', 'ULTO', 'URHS', 'URTO', 'boundary']\n",
      "Creating RawArray with float64 data, n_channels=78, n_times=1534464\n",
      "    Range : 0 ... 1534463 =      0.000 ...  2996.998 secs\n",
      "Ready.\n",
      "Not setting metadata\n",
      "3216 matching events found\n",
      "Setting baseline interval to [-0.099609375, 0.0] sec\n",
      "Applying baseline correction (mode: mean)\n",
      "0 projection items activated\n",
      "Reading c:\\Users\\kanka\\OneDrive\\Desktop\\Predicting_Gait_Events_Using_Dual_layer_EEG_dataset\\DATA\\Data_Inner_Layer\\PTW06_allwalk_EEG.fdt\n",
      "Reading 0 ... 1518079  =      0.000 ...  2964.998 secs...\n"
     ]
    },
    {
     "name": "stderr",
     "output_type": "stream",
     "text": [
      "C:\\Users\\kanka\\AppData\\Local\\Temp\\ipykernel_27708\\3270261566.py:61: RuntimeWarning: Estimated head radius (10.9 cm) is above the 99th percentile for adult head size. Check if the montage_units argument is correct (the default is \"mm\", but your channel positions may be in different units).\n",
      "  raw = mne.io.read_raw_eeglab(set_file, preload=True)\n",
      "C:\\Users\\kanka\\AppData\\Local\\Temp\\ipykernel_27708\\3270261566.py:61: RuntimeWarning: The data contains 'boundary' events, indicating data discontinuities. Be cautious of filtering and epoching around these events.\n",
      "  raw = mne.io.read_raw_eeglab(set_file, preload=True)\n"
     ]
    },
    {
     "name": "stdout",
     "output_type": "stream",
     "text": [
      "Used Annotations descriptions: ['CLHS', 'CLP_On', 'CLTO', 'CRHS', 'CRTO', 'PLHS', 'PLP_On', 'PLTO', 'PRHS', 'PRTO', 'ULHS', 'ULP_On', 'ULTO', 'URHS', 'URTO', 'boundary']\n",
      "Creating RawArray with float64 data, n_channels=78, n_times=1518080\n",
      "    Range : 0 ... 1518079 =      0.000 ...  2964.998 secs\n",
      "Ready.\n",
      "Not setting metadata\n",
      "3124 matching events found\n",
      "Setting baseline interval to [-0.099609375, 0.0] sec\n",
      "Applying baseline correction (mode: mean)\n",
      "0 projection items activated\n",
      "Reading c:\\Users\\kanka\\OneDrive\\Desktop\\Predicting_Gait_Events_Using_Dual_layer_EEG_dataset\\DATA\\Data_Inner_Layer\\PTW07_allwalk_EEG.fdt\n",
      "Reading 0 ... 1547263  =      0.000 ...  3021.998 secs...\n"
     ]
    },
    {
     "name": "stderr",
     "output_type": "stream",
     "text": [
      "C:\\Users\\kanka\\AppData\\Local\\Temp\\ipykernel_27708\\3270261566.py:61: RuntimeWarning: Estimated head radius (11.0 cm) is above the 99th percentile for adult head size. Check if the montage_units argument is correct (the default is \"mm\", but your channel positions may be in different units).\n",
      "  raw = mne.io.read_raw_eeglab(set_file, preload=True)\n",
      "C:\\Users\\kanka\\AppData\\Local\\Temp\\ipykernel_27708\\3270261566.py:61: RuntimeWarning: The data contains 'boundary' events, indicating data discontinuities. Be cautious of filtering and epoching around these events.\n",
      "  raw = mne.io.read_raw_eeglab(set_file, preload=True)\n"
     ]
    },
    {
     "name": "stdout",
     "output_type": "stream",
     "text": [
      "Used Annotations descriptions: ['CLHS', 'CLP_On', 'CLTO', 'CRHS', 'CRTO', 'PLHS', 'PLP_On', 'PLTO', 'PRHS', 'PRTO', 'ULHS', 'ULP_On', 'ULTO', 'URHS', 'URTO', 'boundary']\n",
      "Creating RawArray with float64 data, n_channels=78, n_times=1547264\n",
      "    Range : 0 ... 1547263 =      0.000 ...  3021.998 secs\n",
      "Ready.\n",
      "Not setting metadata\n",
      "3136 matching events found\n",
      "Setting baseline interval to [-0.099609375, 0.0] sec\n",
      "Applying baseline correction (mode: mean)\n",
      "0 projection items activated\n",
      "Reading c:\\Users\\kanka\\OneDrive\\Desktop\\Predicting_Gait_Events_Using_Dual_layer_EEG_dataset\\DATA\\Data_Inner_Layer\\PTW08_allwalk_EEG.fdt\n",
      "Reading 0 ... 1531903  =      0.000 ...  2991.998 secs...\n"
     ]
    },
    {
     "name": "stderr",
     "output_type": "stream",
     "text": [
      "C:\\Users\\kanka\\AppData\\Local\\Temp\\ipykernel_27708\\3270261566.py:61: RuntimeWarning: Estimated head radius (11.5 cm) is above the 99th percentile for adult head size. Check if the montage_units argument is correct (the default is \"mm\", but your channel positions may be in different units).\n",
      "  raw = mne.io.read_raw_eeglab(set_file, preload=True)\n",
      "C:\\Users\\kanka\\AppData\\Local\\Temp\\ipykernel_27708\\3270261566.py:61: RuntimeWarning: The data contains 'boundary' events, indicating data discontinuities. Be cautious of filtering and epoching around these events.\n",
      "  raw = mne.io.read_raw_eeglab(set_file, preload=True)\n"
     ]
    },
    {
     "name": "stdout",
     "output_type": "stream",
     "text": [
      "Used Annotations descriptions: ['CLHS', 'CLP_On', 'CLTO', 'CRHS', 'CRTO', 'PLHS', 'PLP_On', 'PLTO', 'PRHS', 'PRTO', 'ULHS', 'ULP_On', 'ULTO', 'URHS', 'URTO', 'boundary']\n",
      "Creating RawArray with float64 data, n_channels=78, n_times=1531904\n",
      "    Range : 0 ... 1531903 =      0.000 ...  2991.998 secs\n",
      "Ready.\n",
      "Not setting metadata\n",
      "3264 matching events found\n",
      "Setting baseline interval to [-0.099609375, 0.0] sec\n",
      "Applying baseline correction (mode: mean)\n",
      "0 projection items activated\n",
      "Reading c:\\Users\\kanka\\OneDrive\\Desktop\\Predicting_Gait_Events_Using_Dual_layer_EEG_dataset\\DATA\\Data_Inner_Layer\\PTW09_allwalk_EEG.fdt\n",
      "Reading 0 ... 1540095  =      0.000 ...  3007.998 secs...\n"
     ]
    },
    {
     "name": "stderr",
     "output_type": "stream",
     "text": [
      "C:\\Users\\kanka\\AppData\\Local\\Temp\\ipykernel_27708\\3270261566.py:61: RuntimeWarning: Estimated head radius (12.3 cm) is above the 99th percentile for adult head size. Check if the montage_units argument is correct (the default is \"mm\", but your channel positions may be in different units).\n",
      "  raw = mne.io.read_raw_eeglab(set_file, preload=True)\n",
      "C:\\Users\\kanka\\AppData\\Local\\Temp\\ipykernel_27708\\3270261566.py:61: RuntimeWarning: The data contains 'boundary' events, indicating data discontinuities. Be cautious of filtering and epoching around these events.\n",
      "  raw = mne.io.read_raw_eeglab(set_file, preload=True)\n"
     ]
    },
    {
     "name": "stdout",
     "output_type": "stream",
     "text": [
      "Used Annotations descriptions: ['CLHS', 'CLP_On', 'CLTO', 'CRHS', 'CRTO', 'PLHS', 'PLP_On', 'PLTO', 'PRHS', 'PRTO', 'ULHS', 'ULP_On', 'ULTO', 'URHS', 'URTO', 'boundary']\n",
      "Creating RawArray with float64 data, n_channels=78, n_times=1540096\n",
      "    Range : 0 ... 1540095 =      0.000 ...  3007.998 secs\n",
      "Ready.\n",
      "Not setting metadata\n",
      "3152 matching events found\n",
      "Setting baseline interval to [-0.099609375, 0.0] sec\n",
      "Applying baseline correction (mode: mean)\n",
      "0 projection items activated\n",
      "Reading c:\\Users\\kanka\\OneDrive\\Desktop\\Predicting_Gait_Events_Using_Dual_layer_EEG_dataset\\DATA\\Data_Inner_Layer\\PTW10_allwalk_EEG.fdt\n",
      "Reading 0 ... 1532415  =      0.000 ...  2992.998 secs...\n"
     ]
    },
    {
     "name": "stderr",
     "output_type": "stream",
     "text": [
      "C:\\Users\\kanka\\AppData\\Local\\Temp\\ipykernel_27708\\3270261566.py:61: RuntimeWarning: Estimated head radius (11.0 cm) is above the 99th percentile for adult head size. Check if the montage_units argument is correct (the default is \"mm\", but your channel positions may be in different units).\n",
      "  raw = mne.io.read_raw_eeglab(set_file, preload=True)\n",
      "C:\\Users\\kanka\\AppData\\Local\\Temp\\ipykernel_27708\\3270261566.py:61: RuntimeWarning: The data contains 'boundary' events, indicating data discontinuities. Be cautious of filtering and epoching around these events.\n",
      "  raw = mne.io.read_raw_eeglab(set_file, preload=True)\n"
     ]
    },
    {
     "name": "stdout",
     "output_type": "stream",
     "text": [
      "Used Annotations descriptions: ['CLHS', 'CLP_On', 'CLTO', 'CRHS', 'CRTO', 'PLHS', 'PLP_On', 'PLTO', 'PRHS', 'PRTO', 'ULHS', 'ULP_On', 'ULTO', 'URHS', 'URTO', 'boundary']\n",
      "Creating RawArray with float64 data, n_channels=78, n_times=1532416\n",
      "    Range : 0 ... 1532415 =      0.000 ...  2992.998 secs\n",
      "Ready.\n",
      "Not setting metadata\n",
      "3068 matching events found\n",
      "Setting baseline interval to [-0.099609375, 0.0] sec\n",
      "Applying baseline correction (mode: mean)\n",
      "0 projection items activated\n",
      "Reading c:\\Users\\kanka\\OneDrive\\Desktop\\Predicting_Gait_Events_Using_Dual_layer_EEG_dataset\\DATA\\Data_Inner_Layer\\PTW11_allwalk_EEG.fdt\n",
      "Reading 0 ... 1528831  =      0.000 ...  2985.998 secs...\n"
     ]
    },
    {
     "name": "stderr",
     "output_type": "stream",
     "text": [
      "C:\\Users\\kanka\\AppData\\Local\\Temp\\ipykernel_27708\\3270261566.py:61: RuntimeWarning: Estimated head radius (11.8 cm) is above the 99th percentile for adult head size. Check if the montage_units argument is correct (the default is \"mm\", but your channel positions may be in different units).\n",
      "  raw = mne.io.read_raw_eeglab(set_file, preload=True)\n",
      "C:\\Users\\kanka\\AppData\\Local\\Temp\\ipykernel_27708\\3270261566.py:61: RuntimeWarning: The data contains 'boundary' events, indicating data discontinuities. Be cautious of filtering and epoching around these events.\n",
      "  raw = mne.io.read_raw_eeglab(set_file, preload=True)\n"
     ]
    },
    {
     "name": "stdout",
     "output_type": "stream",
     "text": [
      "Used Annotations descriptions: ['CLHS', 'CLP_On', 'CLTO', 'CRHS', 'CRTO', 'PLHS', 'PLP_On', 'PLTO', 'PRHS', 'PRTO', 'ULHS', 'ULP_On', 'ULTO', 'URHS', 'URTO', 'boundary']\n",
      "Creating RawArray with float64 data, n_channels=78, n_times=1528832\n",
      "    Range : 0 ... 1528831 =      0.000 ...  2985.998 secs\n",
      "Ready.\n",
      "Not setting metadata\n",
      "3156 matching events found\n",
      "Setting baseline interval to [-0.099609375, 0.0] sec\n",
      "Applying baseline correction (mode: mean)\n",
      "0 projection items activated\n",
      "Reading c:\\Users\\kanka\\OneDrive\\Desktop\\Predicting_Gait_Events_Using_Dual_layer_EEG_dataset\\DATA\\Data_Inner_Layer\\PTW12_allwalk_EEG.fdt\n",
      "Reading 0 ... 1526783  =      0.000 ...  2981.998 secs...\n"
     ]
    },
    {
     "name": "stderr",
     "output_type": "stream",
     "text": [
      "C:\\Users\\kanka\\AppData\\Local\\Temp\\ipykernel_27708\\3270261566.py:61: RuntimeWarning: Estimated head radius (11.1 cm) is above the 99th percentile for adult head size. Check if the montage_units argument is correct (the default is \"mm\", but your channel positions may be in different units).\n",
      "  raw = mne.io.read_raw_eeglab(set_file, preload=True)\n",
      "C:\\Users\\kanka\\AppData\\Local\\Temp\\ipykernel_27708\\3270261566.py:61: RuntimeWarning: The data contains 'boundary' events, indicating data discontinuities. Be cautious of filtering and epoching around these events.\n",
      "  raw = mne.io.read_raw_eeglab(set_file, preload=True)\n"
     ]
    },
    {
     "name": "stdout",
     "output_type": "stream",
     "text": [
      "Used Annotations descriptions: ['CLHS', 'CLP_On', 'CLTO', 'CRHS', 'CRTO', 'PLHS', 'PLP_On', 'PLTO', 'PRHS', 'PRTO', 'ULHS', 'ULP_On', 'ULTO', 'URHS', 'URTO', 'boundary']\n",
      "Creating RawArray with float64 data, n_channels=78, n_times=1526784\n",
      "    Range : 0 ... 1526783 =      0.000 ...  2981.998 secs\n",
      "Ready.\n",
      "Not setting metadata\n",
      "2984 matching events found\n",
      "Setting baseline interval to [-0.099609375, 0.0] sec\n",
      "Applying baseline correction (mode: mean)\n",
      "0 projection items activated\n",
      "Reading c:\\Users\\kanka\\OneDrive\\Desktop\\Predicting_Gait_Events_Using_Dual_layer_EEG_dataset\\DATA\\Data_Inner_Layer\\PTW13_allwalk_EEG.fdt\n",
      "Reading 0 ... 1534975  =      0.000 ...  2997.998 secs...\n"
     ]
    },
    {
     "name": "stderr",
     "output_type": "stream",
     "text": [
      "C:\\Users\\kanka\\AppData\\Local\\Temp\\ipykernel_27708\\3270261566.py:61: RuntimeWarning: The data contains 'boundary' events, indicating data discontinuities. Be cautious of filtering and epoching around these events.\n",
      "  raw = mne.io.read_raw_eeglab(set_file, preload=True)\n"
     ]
    },
    {
     "name": "stdout",
     "output_type": "stream",
     "text": [
      "Used Annotations descriptions: ['CLHS', 'CLP_On', 'CLTO', 'CRHS', 'CRTO', 'PLHS', 'PLP_On', 'PLTO', 'PRHS', 'PRTO', 'ULHS', 'ULP_On', 'ULTO', 'URHS', 'URTO', 'boundary']\n",
      "Creating RawArray with float64 data, n_channels=78, n_times=1534976\n",
      "    Range : 0 ... 1534975 =      0.000 ...  2997.998 secs\n",
      "Ready.\n",
      "Not setting metadata\n",
      "3180 matching events found\n",
      "Setting baseline interval to [-0.099609375, 0.0] sec\n",
      "Applying baseline correction (mode: mean)\n",
      "0 projection items activated\n",
      "Reading c:\\Users\\kanka\\OneDrive\\Desktop\\Predicting_Gait_Events_Using_Dual_layer_EEG_dataset\\DATA\\Data_Inner_Layer\\PTW14_allwalk_EEG.fdt\n",
      "Reading 0 ... 1538047  =      0.000 ...  3003.998 secs...\n"
     ]
    },
    {
     "name": "stderr",
     "output_type": "stream",
     "text": [
      "C:\\Users\\kanka\\AppData\\Local\\Temp\\ipykernel_27708\\3270261566.py:61: RuntimeWarning: Estimated head radius (11.2 cm) is above the 99th percentile for adult head size. Check if the montage_units argument is correct (the default is \"mm\", but your channel positions may be in different units).\n",
      "  raw = mne.io.read_raw_eeglab(set_file, preload=True)\n",
      "C:\\Users\\kanka\\AppData\\Local\\Temp\\ipykernel_27708\\3270261566.py:61: RuntimeWarning: The data contains 'boundary' events, indicating data discontinuities. Be cautious of filtering and epoching around these events.\n",
      "  raw = mne.io.read_raw_eeglab(set_file, preload=True)\n"
     ]
    },
    {
     "name": "stdout",
     "output_type": "stream",
     "text": [
      "Used Annotations descriptions: ['CLHS', 'CLP_On', 'CLTO', 'CRHS', 'CRTO', 'PLHS', 'PLP_On', 'PLTO', 'PRHS', 'PRTO', 'ULHS', 'ULP_On', 'ULTO', 'URHS', 'URTO', 'boundary']\n",
      "Creating RawArray with float64 data, n_channels=78, n_times=1538048\n",
      "    Range : 0 ... 1538047 =      0.000 ...  3003.998 secs\n",
      "Ready.\n",
      "Not setting metadata\n",
      "2988 matching events found\n",
      "Setting baseline interval to [-0.099609375, 0.0] sec\n",
      "Applying baseline correction (mode: mean)\n",
      "0 projection items activated\n",
      "Using data from preloaded Raw for 811 events and 103 original time points ...\n",
      "0 bad epochs dropped\n",
      "Using data from preloaded Raw for 806 events and 103 original time points ...\n",
      "0 bad epochs dropped\n",
      "Using data from preloaded Raw for 831 events and 103 original time points ...\n",
      "0 bad epochs dropped\n",
      "Using data from preloaded Raw for 769 events and 103 original time points ...\n",
      "0 bad epochs dropped\n",
      "Using data from preloaded Raw for 804 events and 103 original time points ...\n",
      "0 bad epochs dropped\n",
      "Using data from preloaded Raw for 781 events and 103 original time points ...\n",
      "0 bad epochs dropped\n",
      "Using data from preloaded Raw for 784 events and 103 original time points ...\n",
      "0 bad epochs dropped\n",
      "Using data from preloaded Raw for 816 events and 103 original time points ...\n",
      "0 bad epochs dropped\n",
      "Using data from preloaded Raw for 788 events and 103 original time points ...\n",
      "0 bad epochs dropped\n",
      "Using data from preloaded Raw for 767 events and 103 original time points ...\n",
      "0 bad epochs dropped\n",
      "Using data from preloaded Raw for 789 events and 103 original time points ...\n",
      "0 bad epochs dropped\n",
      "Using data from preloaded Raw for 746 events and 103 original time points ...\n",
      "0 bad epochs dropped\n",
      "Using data from preloaded Raw for 795 events and 103 original time points ...\n",
      "0 bad epochs dropped\n",
      "Using data from preloaded Raw for 747 events and 103 original time points ...\n",
      "0 bad epochs dropped\n",
      "Using data from preloaded Raw for 811 events and 103 original time points ...\n",
      "Using data from preloaded Raw for 806 events and 103 original time points ...\n",
      "Using data from preloaded Raw for 831 events and 103 original time points ...\n",
      "Using data from preloaded Raw for 769 events and 103 original time points ...\n",
      "Using data from preloaded Raw for 804 events and 103 original time points ...\n",
      "Using data from preloaded Raw for 781 events and 103 original time points ...\n",
      "Using data from preloaded Raw for 784 events and 103 original time points ...\n",
      "Using data from preloaded Raw for 816 events and 103 original time points ...\n",
      "Using data from preloaded Raw for 788 events and 103 original time points ...\n",
      "Using data from preloaded Raw for 767 events and 103 original time points ...\n",
      "Using data from preloaded Raw for 789 events and 103 original time points ...\n",
      "Using data from preloaded Raw for 746 events and 103 original time points ...\n",
      "Using data from preloaded Raw for 795 events and 103 original time points ...\n",
      "Using data from preloaded Raw for 747 events and 103 original time points ...\n",
      "Not setting metadata\n",
      "11034 matching events found\n",
      "Applying baseline correction (mode: mean)\n",
      "Overwriting existing file.\n"
     ]
    },
    {
     "name": "stderr",
     "output_type": "stream",
     "text": [
      "C:\\Users\\kanka\\AppData\\Local\\Temp\\ipykernel_27708\\3270261566.py:82: RuntimeWarning: epochs.drop_log contains 170222 entries which will incur up to a 2.1 MB writing overhead (per split file), consider using epochs.reset_drop_log_selection() prior to writing\n",
      "  concatenated_epochs.save(save_path, overwrite=True)\n"
     ]
    },
    {
     "name": "stdout",
     "output_type": "stream",
     "text": [
      "Using data from preloaded Raw for 811 events and 103 original time points ...\n",
      "0 bad epochs dropped\n",
      "Using data from preloaded Raw for 806 events and 103 original time points ...\n",
      "0 bad epochs dropped\n",
      "Using data from preloaded Raw for 831 events and 103 original time points ...\n",
      "0 bad epochs dropped\n",
      "Using data from preloaded Raw for 769 events and 103 original time points ...\n",
      "0 bad epochs dropped\n",
      "Using data from preloaded Raw for 804 events and 103 original time points ...\n",
      "0 bad epochs dropped\n",
      "Using data from preloaded Raw for 781 events and 103 original time points ...\n",
      "0 bad epochs dropped\n",
      "Using data from preloaded Raw for 784 events and 103 original time points ...\n",
      "0 bad epochs dropped\n",
      "Using data from preloaded Raw for 816 events and 103 original time points ...\n",
      "0 bad epochs dropped\n",
      "Using data from preloaded Raw for 788 events and 103 original time points ...\n",
      "0 bad epochs dropped\n",
      "Using data from preloaded Raw for 767 events and 103 original time points ...\n",
      "0 bad epochs dropped\n",
      "Using data from preloaded Raw for 789 events and 103 original time points ...\n",
      "0 bad epochs dropped\n",
      "Using data from preloaded Raw for 746 events and 103 original time points ...\n",
      "0 bad epochs dropped\n",
      "Using data from preloaded Raw for 795 events and 103 original time points ...\n",
      "0 bad epochs dropped\n",
      "Using data from preloaded Raw for 747 events and 103 original time points ...\n",
      "0 bad epochs dropped\n",
      "Using data from preloaded Raw for 811 events and 103 original time points ...\n",
      "Using data from preloaded Raw for 806 events and 103 original time points ...\n",
      "Using data from preloaded Raw for 831 events and 103 original time points ...\n",
      "Using data from preloaded Raw for 769 events and 103 original time points ...\n",
      "Using data from preloaded Raw for 804 events and 103 original time points ...\n",
      "Using data from preloaded Raw for 781 events and 103 original time points ...\n",
      "Using data from preloaded Raw for 784 events and 103 original time points ...\n",
      "Using data from preloaded Raw for 816 events and 103 original time points ...\n",
      "Using data from preloaded Raw for 788 events and 103 original time points ...\n",
      "Using data from preloaded Raw for 767 events and 103 original time points ...\n",
      "Using data from preloaded Raw for 789 events and 103 original time points ...\n",
      "Using data from preloaded Raw for 746 events and 103 original time points ...\n",
      "Using data from preloaded Raw for 795 events and 103 original time points ...\n",
      "Using data from preloaded Raw for 747 events and 103 original time points ...\n",
      "Not setting metadata\n",
      "11034 matching events found\n",
      "Applying baseline correction (mode: mean)\n",
      "Overwriting existing file.\n"
     ]
    },
    {
     "name": "stderr",
     "output_type": "stream",
     "text": [
      "C:\\Users\\kanka\\AppData\\Local\\Temp\\ipykernel_27708\\3270261566.py:82: RuntimeWarning: epochs.drop_log contains 170222 entries which will incur up to a 2.1 MB writing overhead (per split file), consider using epochs.reset_drop_log_selection() prior to writing\n",
      "  concatenated_epochs.save(save_path, overwrite=True)\n"
     ]
    },
    {
     "name": "stdout",
     "output_type": "stream",
     "text": [
      "Using data from preloaded Raw for 811 events and 103 original time points ...\n",
      "0 bad epochs dropped\n",
      "Using data from preloaded Raw for 806 events and 103 original time points ...\n",
      "0 bad epochs dropped\n",
      "Using data from preloaded Raw for 831 events and 103 original time points ...\n",
      "0 bad epochs dropped\n",
      "Using data from preloaded Raw for 769 events and 103 original time points ...\n",
      "0 bad epochs dropped\n",
      "Using data from preloaded Raw for 804 events and 103 original time points ...\n",
      "0 bad epochs dropped\n",
      "Using data from preloaded Raw for 781 events and 103 original time points ...\n",
      "0 bad epochs dropped\n",
      "Using data from preloaded Raw for 784 events and 103 original time points ...\n",
      "0 bad epochs dropped\n",
      "Using data from preloaded Raw for 816 events and 103 original time points ...\n",
      "0 bad epochs dropped\n",
      "Using data from preloaded Raw for 788 events and 103 original time points ...\n",
      "0 bad epochs dropped\n",
      "Using data from preloaded Raw for 767 events and 103 original time points ...\n",
      "0 bad epochs dropped\n",
      "Using data from preloaded Raw for 789 events and 103 original time points ...\n",
      "0 bad epochs dropped\n",
      "Using data from preloaded Raw for 746 events and 103 original time points ...\n",
      "0 bad epochs dropped\n",
      "Using data from preloaded Raw for 795 events and 103 original time points ...\n",
      "0 bad epochs dropped\n",
      "Using data from preloaded Raw for 747 events and 103 original time points ...\n",
      "0 bad epochs dropped\n",
      "Using data from preloaded Raw for 811 events and 103 original time points ...\n",
      "Using data from preloaded Raw for 806 events and 103 original time points ...\n",
      "Using data from preloaded Raw for 831 events and 103 original time points ...\n",
      "Using data from preloaded Raw for 769 events and 103 original time points ...\n",
      "Using data from preloaded Raw for 804 events and 103 original time points ...\n",
      "Using data from preloaded Raw for 781 events and 103 original time points ...\n",
      "Using data from preloaded Raw for 784 events and 103 original time points ...\n",
      "Using data from preloaded Raw for 816 events and 103 original time points ...\n",
      "Using data from preloaded Raw for 788 events and 103 original time points ...\n",
      "Using data from preloaded Raw for 767 events and 103 original time points ...\n",
      "Using data from preloaded Raw for 789 events and 103 original time points ...\n",
      "Using data from preloaded Raw for 746 events and 103 original time points ...\n",
      "Using data from preloaded Raw for 795 events and 103 original time points ...\n",
      "Using data from preloaded Raw for 747 events and 103 original time points ...\n",
      "Not setting metadata\n",
      "11034 matching events found\n",
      "Applying baseline correction (mode: mean)\n",
      "Overwriting existing file.\n"
     ]
    },
    {
     "name": "stderr",
     "output_type": "stream",
     "text": [
      "C:\\Users\\kanka\\AppData\\Local\\Temp\\ipykernel_27708\\3270261566.py:82: RuntimeWarning: epochs.drop_log contains 170222 entries which will incur up to a 2.1 MB writing overhead (per split file), consider using epochs.reset_drop_log_selection() prior to writing\n",
      "  concatenated_epochs.save(save_path, overwrite=True)\n"
     ]
    },
    {
     "name": "stdout",
     "output_type": "stream",
     "text": [
      "Using data from preloaded Raw for 811 events and 103 original time points ...\n",
      "0 bad epochs dropped\n",
      "Using data from preloaded Raw for 806 events and 103 original time points ...\n",
      "0 bad epochs dropped\n",
      "Using data from preloaded Raw for 831 events and 103 original time points ...\n",
      "0 bad epochs dropped\n",
      "Using data from preloaded Raw for 769 events and 103 original time points ...\n",
      "0 bad epochs dropped\n",
      "Using data from preloaded Raw for 804 events and 103 original time points ...\n",
      "0 bad epochs dropped\n",
      "Using data from preloaded Raw for 781 events and 103 original time points ...\n",
      "0 bad epochs dropped\n",
      "Using data from preloaded Raw for 784 events and 103 original time points ...\n",
      "0 bad epochs dropped\n",
      "Using data from preloaded Raw for 816 events and 103 original time points ...\n",
      "0 bad epochs dropped\n",
      "Using data from preloaded Raw for 788 events and 103 original time points ...\n",
      "0 bad epochs dropped\n",
      "Using data from preloaded Raw for 767 events and 103 original time points ...\n",
      "0 bad epochs dropped\n",
      "Using data from preloaded Raw for 789 events and 103 original time points ...\n",
      "0 bad epochs dropped\n",
      "Using data from preloaded Raw for 746 events and 103 original time points ...\n",
      "0 bad epochs dropped\n",
      "Using data from preloaded Raw for 795 events and 103 original time points ...\n",
      "0 bad epochs dropped\n",
      "Using data from preloaded Raw for 747 events and 103 original time points ...\n",
      "0 bad epochs dropped\n",
      "Using data from preloaded Raw for 811 events and 103 original time points ...\n",
      "Using data from preloaded Raw for 806 events and 103 original time points ...\n",
      "Using data from preloaded Raw for 831 events and 103 original time points ...\n",
      "Using data from preloaded Raw for 769 events and 103 original time points ...\n",
      "Using data from preloaded Raw for 804 events and 103 original time points ...\n",
      "Using data from preloaded Raw for 781 events and 103 original time points ...\n",
      "Using data from preloaded Raw for 784 events and 103 original time points ...\n",
      "Using data from preloaded Raw for 816 events and 103 original time points ...\n",
      "Using data from preloaded Raw for 788 events and 103 original time points ...\n",
      "Using data from preloaded Raw for 767 events and 103 original time points ...\n",
      "Using data from preloaded Raw for 789 events and 103 original time points ...\n",
      "Using data from preloaded Raw for 746 events and 103 original time points ...\n",
      "Using data from preloaded Raw for 795 events and 103 original time points ...\n",
      "Using data from preloaded Raw for 747 events and 103 original time points ...\n",
      "Not setting metadata\n",
      "11034 matching events found\n",
      "Applying baseline correction (mode: mean)\n",
      "Overwriting existing file.\n"
     ]
    },
    {
     "name": "stderr",
     "output_type": "stream",
     "text": [
      "C:\\Users\\kanka\\AppData\\Local\\Temp\\ipykernel_27708\\3270261566.py:82: RuntimeWarning: epochs.drop_log contains 170222 entries which will incur up to a 2.1 MB writing overhead (per split file), consider using epochs.reset_drop_log_selection() prior to writing\n",
      "  concatenated_epochs.save(save_path, overwrite=True)\n"
     ]
    },
    {
     "name": "stdout",
     "output_type": "stream",
     "text": [
      "Total number of events for ULHS: 11034\n",
      "Total number of events for ULTO: 11034\n",
      "Total number of events for URHS: 11034\n",
      "Total number of events for URTO: 11034\n"
     ]
    }
   ],
   "source": [
    "import os\n",
    "import mne\n",
    "import numpy as np\n",
    "import scipy.io\n",
    "import pandas as pd\n",
    "import random\n",
    "\n",
    "def find_continuous_no_event_epochs(events, raw, num_ulhs):\n",
    "    event_id_no_event = {'no_event': 0}\n",
    "\n",
    "    event_df = pd.DataFrame(events[0], columns=['Sample Number', 'Offset', 'Event ID'])\n",
    "    event_name_dict = events[1]  \n",
    "    reverse_dict = {v: k for k, v in event_name_dict.items()}\n",
    "    event_df['Event Name'] = event_df['Event ID'].map(reverse_dict)\n",
    "\n",
    "    unperturbed_frame = event_df.loc[event_df['Event Name'].isin(['ULHS', 'URTO', 'URHS', 'ULTO','ULP_On'])] \n",
    "\n",
    "    # Sort by Sample Number\n",
    "    unperturbed_frame = unperturbed_frame.sort_values('Sample Number')\n",
    "\n",
    "    # Get the sample numbers\n",
    "    sample_numbers = unperturbed_frame['Sample Number'].values\n",
    "\n",
    "    middle_samples = []\n",
    "    # For each pair of consecutive sample numbers in the unperturbed frame\n",
    "    for i in range(len(sample_numbers) - 1):\n",
    "        # If the difference is larger than 53\n",
    "        if sample_numbers[i+1] - sample_numbers[i] > 103:\n",
    "            # Get the middle sample number\n",
    "            middle_sample = (sample_numbers[i] + sample_numbers[i+1]) // 2\n",
    "            middle_samples.append(middle_sample)\n",
    "\n",
    "    # Randomly select middle samples\n",
    "    if len(middle_samples) > num_ulhs:\n",
    "        middle_samples = random.sample(middle_samples, num_ulhs)\n",
    "\n",
    "    # Create epochs for the selected middle samples\n",
    "    continuous_no_event_epochs_list = []\n",
    "    for middle_sample in middle_samples:\n",
    "        new_events = np.array([[middle_sample, 0, 0]])\n",
    "        continuous_no_event_epochs_list.append(\n",
    "            mne.Epochs(raw, new_events, event_id=event_id_no_event, tmin=-0.1, tmax=0.1, event_repeated='merge', baseline=(None,0))\n",
    "        )\n",
    "\n",
    "    return continuous_no_event_epochs_list\n",
    "\n",
    "\n",
    "def load_ica_data(subject_code):\n",
    "    ica_file = f'DATA/EEG_ICA_STRUCT/PTW{subject_code}_allwalk_EEG_ICA_STRUCT_rejbadchannels_diverse_incr_comps.mat'\n",
    "    ica_data = scipy.io.loadmat(ica_file)\n",
    "    icaweights = ica_data['EEG_ICA_STRUCT']['weights'][0][0]\n",
    "    icasphere = ica_data['EEG_ICA_STRUCT']['sphere'][0][0]\n",
    "    good_channels = ica_data['EEG_ICA_STRUCT']['good_chans'][0][0][0] - 1  # Subtract 1 to correct the indices\n",
    "    return icaweights, icasphere, good_channels\n",
    "\n",
    "# def epoch_ica_data(ica_data, events, event_id, tmin=-0.05, tmax=0.05):\n",
    "#     info = mne.create_info(ch_names=[f'IC{i+1}' for i in range(ica_data.shape[0])], sfreq=raw.info['sfreq'], ch_types='eeg')\n",
    "#     ica_raw = mne.io.RawArray(ica_data, info)\n",
    "#     epochs = mne.Epochs(ica_raw, events, event_id, tmin=tmin, tmax=tmax)\n",
    "#     return epochs\n",
    "\n",
    "def epoch_ica_data(ica_data, events, event_id, tmin=-0.1, tmax=0.1):\n",
    "    info = mne.create_info(ch_names=[f'{i+1}' for i in range(ica_data.shape[0])], sfreq=raw.info['sfreq'], ch_types='eeg')\n",
    "    ica_raw = mne.io.RawArray(ica_data, info)\n",
    " #   print(events)\n",
    "    epochs = mne.Epochs(ica_raw, events, event_id, tmin=tmin, tmax=tmax)\n",
    "    return epochs\n",
    "\n",
    "\n",
    "def apply_ica_weights(raw, icaweights, icasphereou, good_channels, num_ics=78):\n",
    "    # Get the channel names for the good channels\n",
    "    good_channel_names = [raw.ch_names[i] for i in good_channels]\n",
    "\n",
    "    # Get the data from the good channels only\n",
    "    good_channel_data = raw.copy().pick_channels(good_channel_names).get_data()\n",
    "\n",
    "    # Compute the unmixing matrix using the provided ICA weights and sphere matrix\n",
    "    unmixing_matrix = np.dot(icaweights, icasphere)\n",
    "\n",
    "    # Select the top 78 components based on the sum of the absolute weights\n",
    "    component_weights = np.sum(np.abs(unmixing_matrix), axis=1)\n",
    "    top_ics_indices = np.argsort(component_weights)[-num_ics:]\n",
    "\n",
    "    # Apply the unmixing matrix for the top 78 ICA components to the good channel data\n",
    "    ica_data = np.dot(unmixing_matrix[top_ics_indices, :], good_channel_data)\n",
    "\n",
    "    return ica_data\n",
    "\n",
    "\n",
    "subject_ids = range(1, 15)\n",
    "event_id = {'ULHS': 11, 'ULTO': 13, 'URHS': 14, 'URTO': 15}\n",
    "save_dir = 'DATA/Event_Epoched_Data_ICA_78'  # Specify your desired save directory\n",
    "\n",
    "# Make sure the save directory exists\n",
    "os.makedirs(save_dir, exist_ok=True)\n",
    "\n",
    "\n",
    "all_epochs = {event: [] for event in event_id}\n",
    "eeg_data=[]\n",
    "continuous_no_event_epochs_list_all=[]\n",
    "\n",
    "\n",
    "for subject in subject_ids:\n",
    "    subject_code = f'{subject:02d}'\n",
    "    set_file = f'DATA/Data_Inner_Layer/PTW{subject_code}_allwalk_EEG.set'\n",
    "\n",
    "    # Load the .set file\n",
    "    raw = mne.io.read_raw_eeglab(set_file, preload=True)\n",
    "\n",
    "    # Load the ICA data\n",
    "    icaweights, icasphere, good_channels = load_ica_data(subject_code)\n",
    "\n",
    "    # Apply the ICA weights to the raw data using the provided ICA weights and sphere matrix\n",
    "    ica_data = apply_ica_weights(raw, icaweights, icasphere, good_channels)\n",
    "\n",
    "    # Get the events from the raw data\n",
    "    events=mne.events_from_annotations(raw)#, event_id_list = mne.events_from_annotations(raw)\n",
    "    \n",
    "\n",
    "    # Epoch the ICA activations around the events\n",
    "    epochs = epoch_ica_data(ica_data, events[:1][0], event_id)\n",
    "\n",
    "#     for event in event_id:\n",
    "#         all_epochs[event].append(epochs[event])\n",
    "\n",
    "    eeg_data.append(epochs)\n",
    "    \n",
    "    # Get the events array\n",
    "    events_array = epochs.events\n",
    "    # Get the event_id for 'ULHS'\n",
    "    ulhs_id = event_id['ULHS']\n",
    "    # Count the number of 'ULHS' epochs\n",
    "    num_ulhs = np.sum(events_array[:, 2] == ulhs_id)\n",
    "\n",
    "    # Create ica_raw\n",
    "    info = mne.create_info(ch_names=[f'{i+1}' for i in range(ica_data.shape[0])], sfreq=raw.info['sfreq'], ch_types='eeg')\n",
    "    ica_raw = mne.io.RawArray(ica_data, info)    \n",
    "    \n",
    "    # Find continuous no-event epochs\n",
    "    continuous_no_event_epochs_list = find_continuous_no_event_epochs(events, ica_raw,num_ulhs)\n",
    "    \n",
    "    continuous_no_event_epochs_list_all += continuous_no_event_epochs_list\n",
    "    \n",
    "all_data_event = mne.concatenate_epochs(eeg_data)\n",
    "\n",
    "\n",
    "# Add the selected no-event epochs to the all epochs list\n",
    "all_epochs_list = eeg_data + continuous_no_event_epochs_list_all\n",
    "\n",
    "# Concatenate the event-related and selected no-event epochs\n",
    "all_data = mne.concatenate_epochs(all_epochs_list)\n",
    "\n",
    "# Add no_event to the event_id dictionary\n",
    "event_id['no_event'] = 0\n",
    "\n",
    "    \n",
    "\n",
    "    \n",
    "# Concatenate and save the epoched data for each event type\n",
    "for event in event_id:\n",
    "    #concatenated_epochs = mne.concatenate_epochs(all_epochs[event])\n",
    "    save_path = f'{save_dir}/my_epochs_{event}-epo.fif'\n",
    "    all_data[event].save(save_path, overwrite=True)\n"
   ]
  }
 ],
 "metadata": {
  "kernelspec": {
   "display_name": "Python 3 (ipykernel)",
   "language": "python",
   "name": "python3"
  },
  "language_info": {
   "codemirror_mode": {
    "name": "ipython",
    "version": 3
   },
   "file_extension": ".py",
   "mimetype": "text/x-python",
   "name": "python",
   "nbconvert_exporter": "python",
   "pygments_lexer": "ipython3",
   "version": "3.10.6"
  }
 },
 "nbformat": 4,
 "nbformat_minor": 5
}
