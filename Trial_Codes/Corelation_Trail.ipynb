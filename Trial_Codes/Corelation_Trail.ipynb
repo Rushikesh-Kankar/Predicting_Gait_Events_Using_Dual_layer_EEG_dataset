{
 "cells": [
  {
   "cell_type": "code",
   "execution_count": null,
   "id": "2187afd9",
   "metadata": {},
   "outputs": [],
   "source": [
    "import mne\n",
    "from sklearn.decomposition import PCA\n",
    "import numpy as np\n",
    "\n",
    "#file_path = 'DATA/Data_Inner_Layer/PTW07_allwalk_EEG.set'\n",
    "file_path = 'DATA/Data_Artifact_Layer/PTW01_allwalk_artifact.set'\n",
    "raw = mne.io.read_raw_eeglab(file_path, preload=True)"
   ]
  },
  {
   "cell_type": "code",
   "execution_count": null,
   "id": "7735c553",
   "metadata": {},
   "outputs": [],
   "source": [
    "import mne\n",
    "import numpy as np\n",
    "from joblib import Parallel, delayed\n",
    "\n",
    "\n",
    "# Extract data for channel 'A1'\n",
    "data_a1 = raw.copy().pick_channels(['A1']).get_data()[0]\n",
    "\n",
    "channels = raw.ch_names\n",
    "\n",
    "def compute_correlation(channel_data):\n",
    "    \"\"\"Computes the correlation between A1 and the provided channel data.\"\"\"\n",
    "    return np.corrcoef(data_a1, channel_data)[0, 1]\n",
    "\n",
    "# Use joblib to compute correlations in parallel\n",
    "correlations = Parallel(n_jobs=-1)(delayed(compute_correlation)(raw.copy().pick_channels([ch]).get_data()[0]) for ch in channels)\n",
    "\n",
    "for ch, corr in zip(channels, correlations):\n",
    "    print(f\"Correlation between A1 and {ch}: {corr:.2f}\")\n"
   ]
  },
  {
   "cell_type": "code",
   "execution_count": null,
   "id": "5d953bcb",
   "metadata": {},
   "outputs": [],
   "source": [
    "erp =all_data[0].average()\n",
    "# Plot the ERP\n",
    "erp.plot(); "
   ]
  },
  {
   "cell_type": "code",
   "execution_count": null,
   "id": "b149ac42",
   "metadata": {},
   "outputs": [],
   "source": [
    "import mne\n",
    "import numpy as np\n",
    "from joblib import Parallel, delayed\n",
    "\n",
    "\n",
    "epochs = all_data[0]\n",
    "\n",
    "channels = all_data[0].ch_names\n",
    "\n",
    "def compute_correlation_for_epoch(epoch, channel):\n",
    "    \"\"\"Computes the correlation between A1 and a given channel for a single epoch.\"\"\"\n",
    "    data_a1 = epoch.copy().pick_channels(['A1']).get_data().squeeze()\n",
    "    data_ch = epoch.copy().pick_channels([channel]).get_data().squeeze()\n",
    "    return np.corrcoef(data_a1, data_ch)[0, 1]\n",
    "\n",
    "correlations_for_all_epochs = []\n",
    "\n",
    "# Compute correlations for each channel across all epochs\n",
    "for ch in channels:\n",
    "    correlations = Parallel(n_jobs=-1)(delayed(compute_correlation_for_epoch)(epochs[i], ch) for i in range(len(epochs)))\n",
    "    correlations_for_all_epochs.append(np.mean(correlations))  # Average correlations across all epochs\n",
    "\n",
    "for ch, corr in zip(channels, correlations_for_all_epochs):\n",
    "    print(f\"Average correlation between A1 and {ch}: {corr:.2f}\")\n"
   ]
  },
  {
   "cell_type": "code",
   "execution_count": null,
   "id": "49bce155",
   "metadata": {},
   "outputs": [],
   "source": [
    "events = mne.events_from_annotations(raw)"
   ]
  }
 ],
 "metadata": {
  "kernelspec": {
   "display_name": "Python 3 (ipykernel)",
   "language": "python",
   "name": "python3"
  },
  "language_info": {
   "codemirror_mode": {
    "name": "ipython",
    "version": 3
   },
   "file_extension": ".py",
   "mimetype": "text/x-python",
   "name": "python",
   "nbconvert_exporter": "python",
   "pygments_lexer": "ipython3",
   "version": "3.9.12"
  }
 },
 "nbformat": 4,
 "nbformat_minor": 5
}
